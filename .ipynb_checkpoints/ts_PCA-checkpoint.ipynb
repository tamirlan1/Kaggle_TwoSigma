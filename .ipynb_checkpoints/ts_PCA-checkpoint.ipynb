{
 "cells": [
  {
   "cell_type": "markdown",
   "metadata": {},
   "source": [
    "# PCA  + 'features'"
   ]
  },
  {
   "cell_type": "markdown",
   "metadata": {},
   "source": [
    "## Train set"
   ]
  },
  {
   "cell_type": "code",
   "execution_count": 75,
   "metadata": {
    "collapsed": false
   },
   "outputs": [],
   "source": [
    "%matplotlib inline\n",
    "import pandas as pd\n",
    "import numpy as np\n",
    "from sklearn.metrics import log_loss\n",
    "import cPickle\n",
    "import warnings\n",
    "warnings.filterwarnings(\"ignore\")\n",
    "from sklearn.cross_validation import train_test_split\n",
    "from sklearn.decomposition import PCA\n",
    "import matplotlib.pyplot as plt\n",
    "from sklearn.ensemble import RandomForestClassifier\n",
    "from sklearn.ensemble import GradientBoostingClassifier\n",
    "from sklearn.svm import SVC\n",
    "\n",
    "pd.options.display.max_columns = 160"
   ]
  },
  {
   "cell_type": "code",
   "execution_count": 3,
   "metadata": {
    "collapsed": false
   },
   "outputs": [],
   "source": [
    "# all_df_original = pd.read_json('train.json')\n",
    "all_df = pd.read_csv('train_feats_max_desc.csv')"
   ]
  },
  {
   "cell_type": "code",
   "execution_count": 4,
   "metadata": {
    "collapsed": false
   },
   "outputs": [
    {
     "data": {
      "text/plain": [
       "(49352, 83)"
      ]
     },
     "execution_count": 4,
     "metadata": {},
     "output_type": "execute_result"
    }
   ],
   "source": [
    "all_df.shape"
   ]
  },
  {
   "cell_type": "code",
   "execution_count": 5,
   "metadata": {
    "collapsed": false
   },
   "outputs": [
    {
     "data": {
      "text/plain": [
       "['medium', 'low', 'high']"
      ]
     },
     "execution_count": 5,
     "metadata": {},
     "output_type": "execute_result"
    }
   ],
   "source": [
    "Y = all_df[['interest_level']]\n",
    "target_names = list(Y['interest_level'].unique())\n",
    "target_names"
   ]
  },
  {
   "cell_type": "code",
   "execution_count": 65,
   "metadata": {
    "collapsed": false
   },
   "outputs": [
    {
     "name": "stdout",
     "output_type": "stream",
     "text": [
      "(49352, 82)\n",
      "explained variance ratio (first two components): [  9.99609933e-01   2.41684698e-04   9.69801728e-05   5.14018206e-05]\n"
     ]
    }
   ],
   "source": [
    "X = all_df.drop(['interest_level'], 1)\n",
    "print X.shape\n",
    "pca = PCA(n_components=4, random_state=43)\n",
    "X_red = pca.fit(X).transform(X)\n",
    "\n",
    "# Percentage of variance explained for each components\n",
    "print('explained variance ratio (first two components): %s'\n",
    "      % str(pca.explained_variance_ratio_))"
   ]
  },
  {
   "cell_type": "code",
   "execution_count": 66,
   "metadata": {
    "collapsed": false
   },
   "outputs": [
    {
     "name": "stdout",
     "output_type": "stream",
     "text": [
      "99.9609933304 %\n",
      "0.0241684698 %\n",
      "0.0096980173 %\n",
      "0.0051401821 %\n"
     ]
    }
   ],
   "source": [
    "for i in pca.explained_variance_ratio_:\n",
    "    print round(i*100, 10), '%' "
   ]
  },
  {
   "cell_type": "code",
   "execution_count": 67,
   "metadata": {
    "collapsed": false
   },
   "outputs": [
    {
     "name": "stdout",
     "output_type": "stream",
     "text": [
      "(49352, 4)\n"
     ]
    },
    {
     "data": {
      "text/html": [
       "<div>\n",
       "<table border=\"1\" class=\"dataframe\">\n",
       "  <thead>\n",
       "    <tr style=\"text-align: right;\">\n",
       "      <th></th>\n",
       "      <th>0</th>\n",
       "      <th>1</th>\n",
       "      <th>2</th>\n",
       "      <th>3</th>\n",
       "    </tr>\n",
       "  </thead>\n",
       "  <tbody>\n",
       "    <tr>\n",
       "      <th>0</th>\n",
       "      <td>3.384849e+06</td>\n",
       "      <td>3480.395226</td>\n",
       "      <td>-1204.420665</td>\n",
       "      <td>13818.273245</td>\n",
       "    </tr>\n",
       "    <tr>\n",
       "      <th>1</th>\n",
       "      <td>2.362144e+06</td>\n",
       "      <td>-1550.571741</td>\n",
       "      <td>1314.552849</td>\n",
       "      <td>18336.834217</td>\n",
       "    </tr>\n",
       "    <tr>\n",
       "      <th>2</th>\n",
       "      <td>-2.516144e+06</td>\n",
       "      <td>-512.354283</td>\n",
       "      <td>-752.192032</td>\n",
       "      <td>-2049.971495</td>\n",
       "    </tr>\n",
       "    <tr>\n",
       "      <th>3</th>\n",
       "      <td>-2.433669e+06</td>\n",
       "      <td>-3414.037506</td>\n",
       "      <td>-329.246547</td>\n",
       "      <td>-3287.383975</td>\n",
       "    </tr>\n",
       "    <tr>\n",
       "      <th>4</th>\n",
       "      <td>-1.571486e+06</td>\n",
       "      <td>-3818.889013</td>\n",
       "      <td>-250.210309</td>\n",
       "      <td>-15609.139655</td>\n",
       "    </tr>\n",
       "  </tbody>\n",
       "</table>\n",
       "</div>"
      ],
      "text/plain": [
       "              0            1            2             3\n",
       "0  3.384849e+06  3480.395226 -1204.420665  13818.273245\n",
       "1  2.362144e+06 -1550.571741  1314.552849  18336.834217\n",
       "2 -2.516144e+06  -512.354283  -752.192032  -2049.971495\n",
       "3 -2.433669e+06 -3414.037506  -329.246547  -3287.383975\n",
       "4 -1.571486e+06 -3818.889013  -250.210309 -15609.139655"
      ]
     },
     "execution_count": 67,
     "metadata": {},
     "output_type": "execute_result"
    }
   ],
   "source": [
    "df_X_red = pd.DataFrame(X_red)\n",
    "print df_X_red.shape\n",
    "# df_X_red = df_X_red[df_X_red[0] < 50000]\n",
    "# print df_X_red.shape\n",
    "df_X_red.head()"
   ]
  },
  {
   "cell_type": "code",
   "execution_count": 37,
   "metadata": {
    "collapsed": false
   },
   "outputs": [
    {
     "data": {
      "text/plain": [
       "<matplotlib.text.Text at 0x125e58dd0>"
      ]
     },
     "execution_count": 37,
     "metadata": {},
     "output_type": "execute_result"
    },
    {
     "data": {
      "image/png": "[encoded data removed]",
      "text/plain": [
       "<matplotlib.figure.Figure at 0x125e4a550>"
      ]
     },
     "metadata": {},
     "output_type": "display_data"
    }
   ],
   "source": [
    "plt.figure()\n",
    "colors = ['navy', 'turquoise', 'darkorange']\n",
    "lw = 2\n",
    "target_names = ['medium', 'high', 'low']\n",
    "for color, target_name in zip(colors, target_names):\n",
    "    plt.scatter(df_X_red[(Y == target_name)['interest_level']][0], df_X_red[(Y == target_name)['interest_level']][1], color=color, alpha=.8, lw=lw,\n",
    "                label=target_name)\n",
    "plt.legend(loc='best', shadow=False, scatterpoints=1)\n",
    "plt.title('PCA of IRIS dataset') # pca.explained_variance_, pca.explained_variance_ratio_, pca.components_[0]"
   ]
  },
  {
   "cell_type": "code",
   "execution_count": 39,
   "metadata": {
    "collapsed": false
   },
   "outputs": [],
   "source": [
    "x_train, x_val, y_train, y_val = train_test_split(df_X_red, Y, test_size=0.2, random_state=42)\n"
   ]
  },
  {
   "cell_type": "code",
   "execution_count": 40,
   "metadata": {
    "collapsed": false
   },
   "outputs": [],
   "source": [
    "# cat_feats = cPickle.load(open('cat_feats.p', 'rb'))\n",
    "\n",
    "for col in ['interest_level']:\n",
    "    y_train[col] = y_train[col].astype('category')\n",
    "    y_val[col] = y_val[col].astype('category')\n",
    "    \n",
    "# for col in cat_feats:\n",
    "#     x_train[col] = x_train[col].astype('category')\n",
    "#     x_val[col] = x_val[col].astype('category')"
   ]
  },
  {
   "cell_type": "code",
   "execution_count": 42,
   "metadata": {
    "collapsed": false
   },
   "outputs": [
    {
     "data": {
      "text/plain": [
       "(39481, 2)"
      ]
     },
     "execution_count": 42,
     "metadata": {},
     "output_type": "execute_result"
    }
   ],
   "source": [
    "x_train_best = x_train#[low_pvalues_cols]\n",
    "x_val_best = x_val#[low_pvalues_cols]\n",
    "x_train_best.shape"
   ]
  },
  {
   "cell_type": "code",
   "execution_count": null,
   "metadata": {
    "collapsed": false
   },
   "outputs": [],
   "source": [
    "model = SVC(kernel = 'poly', probability=True)\n",
    "# model = GradientBoostingClassifier(n_estimators=500, learning_rate=0.1, max_depth=4, max_features=0.3, random_state=0)\n",
    "# model = RandomForestClassifier(n_estimators=1000, max_features=0.5, max_depth=20, min_samples_split=20, random_state=0, n_jobs=-1)\n",
    "model = model.fit(x_train_best, y_train)"
   ]
  },
  {
   "cell_type": "code",
   "execution_count": null,
   "metadata": {
    "collapsed": false
   },
   "outputs": [],
   "source": [
    "predicted_train = pd.DataFrame(model.predict_proba(x_train_best))\n",
    "predicted_train.columns = ['high', 'low', 'medium']\n",
    "predicted_train.head()"
   ]
  },
  {
   "cell_type": "code",
   "execution_count": null,
   "metadata": {
    "collapsed": false
   },
   "outputs": [],
   "source": [
    "log_loss_train = log_loss(y_train, predicted_train.as_matrix())\n",
    "log_loss_train"
   ]
  },
  {
   "cell_type": "code",
   "execution_count": null,
   "metadata": {
    "collapsed": false
   },
   "outputs": [],
   "source": [
    "predicted_val = pd.DataFrame(model.predict_proba(x_val_best))\n",
    "predicted_val.columns = ['high', 'low', 'medium']\n",
    "predicted_val.head()"
   ]
  },
  {
   "cell_type": "code",
   "execution_count": null,
   "metadata": {
    "collapsed": false
   },
   "outputs": [],
   "source": [
    "log_loss_val = log_loss(y_val, predicted_val.as_matrix())\n",
    "log_loss_val"
   ]
  },
  {
   "cell_type": "markdown",
   "metadata": {
    "collapsed": true
   },
   "source": [
    "\n",
    "\n",
    "## Competition Test Set"
   ]
  },
  {
   "cell_type": "code",
   "execution_count": 26,
   "metadata": {
    "collapsed": true
   },
   "outputs": [],
   "source": [
    "test_df = pd.read_csv('test_feats_max_desc.csv')"
   ]
  },
  {
   "cell_type": "code",
   "execution_count": 27,
   "metadata": {
    "collapsed": false
   },
   "outputs": [
    {
     "data": {
      "text/html": [
       "<div>\n",
       "<table border=\"1\" class=\"dataframe\">\n",
       "  <thead>\n",
       "    <tr style=\"text-align: right;\">\n",
       "      <th></th>\n",
       "      <th>index</th>\n",
       "      <th>bathrooms</th>\n",
       "      <th>bedrooms</th>\n",
       "      <th>created</th>\n",
       "      <th>latitude</th>\n",
       "      <th>listing_id</th>\n",
       "      <th>longitude</th>\n",
       "      <th>price</th>\n",
       "      <th>num_photos</th>\n",
       "      <th>elevator</th>\n",
       "      <th>hardwood floors</th>\n",
       "      <th>doorman</th>\n",
       "      <th>dishwasher</th>\n",
       "      <th>laundry in building</th>\n",
       "      <th>no fee</th>\n",
       "      <th>fitness center</th>\n",
       "      <th>pre-war</th>\n",
       "      <th>roof deck</th>\n",
       "      <th>outdoor space</th>\n",
       "      <th>dining room</th>\n",
       "      <th>high speed internet</th>\n",
       "      <th>balcony</th>\n",
       "      <th>swimming pool</th>\n",
       "      <th>new construction</th>\n",
       "      <th>terrace</th>\n",
       "      <th>exclusive</th>\n",
       "      <th>loft</th>\n",
       "      <th>garden/patio</th>\n",
       "      <th>wheelchair access</th>\n",
       "      <th>fireplace</th>\n",
       "      <th>simplex</th>\n",
       "      <th>lowrise</th>\n",
       "      <th>garage</th>\n",
       "      <th>reduced fee</th>\n",
       "      <th>furnished</th>\n",
       "      <th>multi-level</th>\n",
       "      <th>high ceilings</th>\n",
       "      <th>private outdoor space</th>\n",
       "      <th>parking space</th>\n",
       "      <th>live in super</th>\n",
       "      <th>renovated</th>\n",
       "      <th>green building</th>\n",
       "      <th>storage</th>\n",
       "      <th>stainless steel appliances</th>\n",
       "      <th>light</th>\n",
       "      <th>granite kitchen</th>\n",
       "      <th>bike room</th>\n",
       "      <th>exposed brick</th>\n",
       "      <th>marble bath</th>\n",
       "      <th>pets on approval</th>\n",
       "      <th>walk in closet(s)</th>\n",
       "      <th>valet</th>\n",
       "      <th>subway</th>\n",
       "      <th>residents lounge</th>\n",
       "      <th>highrise</th>\n",
       "      <th>short term allowed</th>\n",
       "      <th>childrens playroom</th>\n",
       "      <th>no pets</th>\n",
       "      <th>duplex</th>\n",
       "      <th>actual apt. photos</th>\n",
       "      <th>central a/c</th>\n",
       "      <th>view</th>\n",
       "      <th>live/work</th>\n",
       "      <th>virtual doorman</th>\n",
       "      <th>sauna</th>\n",
       "      <th>microwave</th>\n",
       "      <th>shares ok</th>\n",
       "      <th>post-war</th>\n",
       "      <th>brownstone</th>\n",
       "      <th>business center</th>\n",
       "      <th>sublet</th>\n",
       "      <th>midrise</th>\n",
       "      <th>pet friendly</th>\n",
       "      <th>guarantors accepted</th>\n",
       "      <th>attended lobby</th>\n",
       "      <th>package room</th>\n",
       "      <th>video intercom</th>\n",
       "      <th>community recreation facilities</th>\n",
       "      <th>skylight</th>\n",
       "      <th>flex-2</th>\n",
       "      <th>cable/satellite tv</th>\n",
       "      <th>all utilities included</th>\n",
       "    </tr>\n",
       "  </thead>\n",
       "  <tbody>\n",
       "    <tr>\n",
       "      <th>0</th>\n",
       "      <td>0</td>\n",
       "      <td>1.0</td>\n",
       "      <td>1</td>\n",
       "      <td>1.465623e+09</td>\n",
       "      <td>40.7185</td>\n",
       "      <td>7142618</td>\n",
       "      <td>-73.9865</td>\n",
       "      <td>2950</td>\n",
       "      <td>8</td>\n",
       "      <td>1</td>\n",
       "      <td>1</td>\n",
       "      <td>0</td>\n",
       "      <td>1</td>\n",
       "      <td>1</td>\n",
       "      <td>0</td>\n",
       "      <td>0</td>\n",
       "      <td>0</td>\n",
       "      <td>0</td>\n",
       "      <td>1</td>\n",
       "      <td>0</td>\n",
       "      <td>0</td>\n",
       "      <td>0</td>\n",
       "      <td>0</td>\n",
       "      <td>0</td>\n",
       "      <td>1</td>\n",
       "      <td>0</td>\n",
       "      <td>0</td>\n",
       "      <td>0</td>\n",
       "      <td>0</td>\n",
       "      <td>0</td>\n",
       "      <td>0</td>\n",
       "      <td>0</td>\n",
       "      <td>0</td>\n",
       "      <td>0</td>\n",
       "      <td>0</td>\n",
       "      <td>0</td>\n",
       "      <td>0</td>\n",
       "      <td>0</td>\n",
       "      <td>0</td>\n",
       "      <td>0</td>\n",
       "      <td>1</td>\n",
       "      <td>0</td>\n",
       "      <td>1</td>\n",
       "      <td>0</td>\n",
       "      <td>0</td>\n",
       "      <td>0</td>\n",
       "      <td>0</td>\n",
       "      <td>0</td>\n",
       "      <td>0</td>\n",
       "      <td>0</td>\n",
       "      <td>0</td>\n",
       "      <td>0</td>\n",
       "      <td>1</td>\n",
       "      <td>0</td>\n",
       "      <td>0</td>\n",
       "      <td>0</td>\n",
       "      <td>0</td>\n",
       "      <td>0</td>\n",
       "      <td>0</td>\n",
       "      <td>0</td>\n",
       "      <td>0</td>\n",
       "      <td>0</td>\n",
       "      <td>0</td>\n",
       "      <td>0</td>\n",
       "      <td>0</td>\n",
       "      <td>0</td>\n",
       "      <td>0</td>\n",
       "      <td>0</td>\n",
       "      <td>0</td>\n",
       "      <td>0</td>\n",
       "      <td>0</td>\n",
       "      <td>0</td>\n",
       "      <td>0</td>\n",
       "      <td>0</td>\n",
       "      <td>0</td>\n",
       "      <td>0</td>\n",
       "      <td>0</td>\n",
       "      <td>0</td>\n",
       "      <td>0</td>\n",
       "      <td>0</td>\n",
       "      <td>0</td>\n",
       "      <td>0</td>\n",
       "    </tr>\n",
       "    <tr>\n",
       "      <th>1</th>\n",
       "      <td>1</td>\n",
       "      <td>1.0</td>\n",
       "      <td>2</td>\n",
       "      <td>1.466750e+09</td>\n",
       "      <td>40.7278</td>\n",
       "      <td>7210040</td>\n",
       "      <td>-74.0000</td>\n",
       "      <td>2850</td>\n",
       "      <td>3</td>\n",
       "      <td>0</td>\n",
       "      <td>1</td>\n",
       "      <td>0</td>\n",
       "      <td>0</td>\n",
       "      <td>0</td>\n",
       "      <td>0</td>\n",
       "      <td>0</td>\n",
       "      <td>1</td>\n",
       "      <td>0</td>\n",
       "      <td>0</td>\n",
       "      <td>0</td>\n",
       "      <td>0</td>\n",
       "      <td>0</td>\n",
       "      <td>0</td>\n",
       "      <td>0</td>\n",
       "      <td>0</td>\n",
       "      <td>0</td>\n",
       "      <td>0</td>\n",
       "      <td>0</td>\n",
       "      <td>0</td>\n",
       "      <td>0</td>\n",
       "      <td>0</td>\n",
       "      <td>0</td>\n",
       "      <td>0</td>\n",
       "      <td>0</td>\n",
       "      <td>0</td>\n",
       "      <td>0</td>\n",
       "      <td>0</td>\n",
       "      <td>0</td>\n",
       "      <td>0</td>\n",
       "      <td>0</td>\n",
       "      <td>1</td>\n",
       "      <td>0</td>\n",
       "      <td>0</td>\n",
       "      <td>1</td>\n",
       "      <td>0</td>\n",
       "      <td>0</td>\n",
       "      <td>0</td>\n",
       "      <td>0</td>\n",
       "      <td>1</td>\n",
       "      <td>0</td>\n",
       "      <td>0</td>\n",
       "      <td>0</td>\n",
       "      <td>0</td>\n",
       "      <td>0</td>\n",
       "      <td>0</td>\n",
       "      <td>0</td>\n",
       "      <td>0</td>\n",
       "      <td>0</td>\n",
       "      <td>0</td>\n",
       "      <td>0</td>\n",
       "      <td>0</td>\n",
       "      <td>1</td>\n",
       "      <td>0</td>\n",
       "      <td>0</td>\n",
       "      <td>0</td>\n",
       "      <td>0</td>\n",
       "      <td>0</td>\n",
       "      <td>0</td>\n",
       "      <td>0</td>\n",
       "      <td>0</td>\n",
       "      <td>0</td>\n",
       "      <td>0</td>\n",
       "      <td>1</td>\n",
       "      <td>0</td>\n",
       "      <td>0</td>\n",
       "      <td>0</td>\n",
       "      <td>0</td>\n",
       "      <td>0</td>\n",
       "      <td>0</td>\n",
       "      <td>0</td>\n",
       "      <td>0</td>\n",
       "      <td>0</td>\n",
       "    </tr>\n",
       "  </tbody>\n",
       "</table>\n",
       "</div>"
      ],
      "text/plain": [
       "   index  bathrooms  bedrooms       created  latitude  listing_id  longitude  \\\n",
       "0      0        1.0         1  1.465623e+09   40.7185     7142618   -73.9865   \n",
       "1      1        1.0         2  1.466750e+09   40.7278     7210040   -74.0000   \n",
       "\n",
       "   price  num_photos  elevator  hardwood floors  doorman  dishwasher  \\\n",
       "0   2950           8         1                1        0           1   \n",
       "1   2850           3         0                1        0           0   \n",
       "\n",
       "   laundry in building  no fee  fitness center  pre-war  roof deck  \\\n",
       "0                    1       0               0        0          0   \n",
       "1                    0       0               0        1          0   \n",
       "\n",
       "   outdoor space  dining room  high speed internet  balcony  swimming pool  \\\n",
       "0              1            0                    0        0              0   \n",
       "1              0            0                    0        0              0   \n",
       "\n",
       "   new construction  terrace  exclusive  loft  garden/patio  \\\n",
       "0                 0        1          0     0             0   \n",
       "1                 0        0          0     0             0   \n",
       "\n",
       "   wheelchair access  fireplace  simplex  lowrise  garage  reduced fee  \\\n",
       "0                  0          0        0        0       0            0   \n",
       "1                  0          0        0        0       0            0   \n",
       "\n",
       "   furnished  multi-level  high ceilings  private outdoor space  \\\n",
       "0          0            0              0                      0   \n",
       "1          0            0              0                      0   \n",
       "\n",
       "   parking space  live in super  renovated  green building  storage  \\\n",
       "0              0              0          1               0        1   \n",
       "1              0              0          1               0        0   \n",
       "\n",
       "   stainless steel appliances  light  granite kitchen  bike room  \\\n",
       "0                           0      0                0          0   \n",
       "1                           1      0                0          0   \n",
       "\n",
       "   exposed brick  marble bath  pets on approval  walk in closet(s)  valet  \\\n",
       "0              0            0                 0                  0      0   \n",
       "1              0            1                 0                  0      0   \n",
       "\n",
       "   subway  residents lounge  highrise  short term allowed  childrens playroom  \\\n",
       "0       1                 0         0                   0                   0   \n",
       "1       0                 0         0                   0                   0   \n",
       "\n",
       "   no pets  duplex  actual apt. photos  central a/c  view  live/work  \\\n",
       "0        0       0                   0            0     0          0   \n",
       "1        0       0                   0            0     1          0   \n",
       "\n",
       "   virtual doorman  sauna  microwave  shares ok  post-war  brownstone  \\\n",
       "0                0      0          0          0         0           0   \n",
       "1                0      0          0          0         0           0   \n",
       "\n",
       "   business center  sublet  midrise  pet friendly  guarantors accepted  \\\n",
       "0                0       0        0             0                    0   \n",
       "1                0       0        0             1                    0   \n",
       "\n",
       "   attended lobby  package room  video intercom  \\\n",
       "0               0             0               0   \n",
       "1               0             0               0   \n",
       "\n",
       "   community recreation facilities  skylight  flex-2  cable/satellite tv  \\\n",
       "0                                0         0       0                   0   \n",
       "1                                0         0       0                   0   \n",
       "\n",
       "   all utilities included  \n",
       "0                       0  \n",
       "1                       0  "
      ]
     },
     "execution_count": 27,
     "metadata": {},
     "output_type": "execute_result"
    }
   ],
   "source": [
    "test_df.head(2)"
   ]
  },
  {
   "cell_type": "code",
   "execution_count": 28,
   "metadata": {
    "collapsed": false
   },
   "outputs": [
    {
     "data": {
      "text/plain": [
       "(74659, 60)"
      ]
     },
     "execution_count": 28,
     "metadata": {},
     "output_type": "execute_result"
    }
   ],
   "source": [
    "x_test = test_df[x_train_best.columns]\n",
    "x_test.shape"
   ]
  },
  {
   "cell_type": "code",
   "execution_count": 29,
   "metadata": {
    "collapsed": false
   },
   "outputs": [
    {
     "data": {
      "text/html": [
       "<div>\n",
       "<table border=\"1\" class=\"dataframe\">\n",
       "  <thead>\n",
       "    <tr style=\"text-align: right;\">\n",
       "      <th></th>\n",
       "      <th>high</th>\n",
       "      <th>low</th>\n",
       "      <th>medium</th>\n",
       "    </tr>\n",
       "  </thead>\n",
       "  <tbody>\n",
       "    <tr>\n",
       "      <th>0</th>\n",
       "      <td>0.024834</td>\n",
       "      <td>0.711241</td>\n",
       "      <td>0.263924</td>\n",
       "    </tr>\n",
       "    <tr>\n",
       "      <th>1</th>\n",
       "      <td>0.257538</td>\n",
       "      <td>0.342242</td>\n",
       "      <td>0.400220</td>\n",
       "    </tr>\n",
       "    <tr>\n",
       "      <th>2</th>\n",
       "      <td>0.015254</td>\n",
       "      <td>0.897701</td>\n",
       "      <td>0.087045</td>\n",
       "    </tr>\n",
       "    <tr>\n",
       "      <th>3</th>\n",
       "      <td>0.031330</td>\n",
       "      <td>0.616620</td>\n",
       "      <td>0.352050</td>\n",
       "    </tr>\n",
       "    <tr>\n",
       "      <th>4</th>\n",
       "      <td>0.022746</td>\n",
       "      <td>0.744181</td>\n",
       "      <td>0.233073</td>\n",
       "    </tr>\n",
       "  </tbody>\n",
       "</table>\n",
       "</div>"
      ],
      "text/plain": [
       "       high       low    medium\n",
       "0  0.024834  0.711241  0.263924\n",
       "1  0.257538  0.342242  0.400220\n",
       "2  0.015254  0.897701  0.087045\n",
       "3  0.031330  0.616620  0.352050\n",
       "4  0.022746  0.744181  0.233073"
      ]
     },
     "execution_count": 29,
     "metadata": {},
     "output_type": "execute_result"
    }
   ],
   "source": [
    "pred_x = pd.DataFrame(model.predict_proba(x_test))\n",
    "pred_x.columns = ['high', 'low', 'medium']\n",
    "pred_x.head()"
   ]
  },
  {
   "cell_type": "code",
   "execution_count": 30,
   "metadata": {
    "collapsed": false
   },
   "outputs": [],
   "source": [
    "subm = pd.merge(test_df[['listing_id']].reset_index(), pred_x.reset_index(), left_index=True, right_index=True)"
   ]
  },
  {
   "cell_type": "code",
   "execution_count": 31,
   "metadata": {
    "collapsed": true
   },
   "outputs": [],
   "source": [
    "subm = subm[['listing_id', 'high', 'medium', 'low']]"
   ]
  },
  {
   "cell_type": "code",
   "execution_count": 32,
   "metadata": {
    "collapsed": false
   },
   "outputs": [
    {
     "data": {
      "text/plain": [
       "(74659, 4)"
      ]
     },
     "execution_count": 32,
     "metadata": {},
     "output_type": "execute_result"
    }
   ],
   "source": [
    "subm.shape\n",
    "# (74659, 4)"
   ]
  },
  {
   "cell_type": "code",
   "execution_count": 33,
   "metadata": {
    "collapsed": true
   },
   "outputs": [],
   "source": [
    "subm.to_csv('Submission_RandomForest_auto120_tune+60feats_desc.csv', index=None)"
   ]
  },
  {
   "cell_type": "code",
   "execution_count": 51,
   "metadata": {
    "collapsed": false
   },
   "outputs": [
    {
     "data": {
      "text/plain": [
       "RandomForestClassifier(bootstrap=True, class_weight=None, criterion='gini',\n",
       "            max_depth=20, max_features=0.3, max_leaf_nodes=None,\n",
       "            min_impurity_split=1e-07, min_samples_leaf=1,\n",
       "            min_samples_split=20, min_weight_fraction_leaf=0.0,\n",
       "            n_estimators=1000, n_jobs=1, oob_score=False, random_state=21,\n",
       "            verbose=0, warm_start=False)"
      ]
     },
     "execution_count": 51,
     "metadata": {},
     "output_type": "execute_result"
    }
   ],
   "source": [
    "model"
   ]
  },
  {
   "cell_type": "code",
   "execution_count": null,
   "metadata": {
    "collapsed": true
   },
   "outputs": [],
   "source": []
  }
 ],
 "metadata": {
  "anaconda-cloud": {},
  "kernelspec": {
   "display_name": "Python [Root]",
   "language": "python",
   "name": "Python [Root]"
  },
  "language_info": {
   "codemirror_mode": {
    "name": "ipython",
    "version": 2
   },
   "file_extension": ".py",
   "mimetype": "text/x-python",
   "name": "python",
   "nbconvert_exporter": "python",
   "pygments_lexer": "ipython2",
   "version": "2.7.12"
  }
 },
 "nbformat": 4,
 "nbformat_minor": 0
}
