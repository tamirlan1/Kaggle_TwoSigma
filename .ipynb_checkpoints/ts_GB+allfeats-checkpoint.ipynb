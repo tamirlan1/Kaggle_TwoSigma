{
 "cells": [
  {
   "cell_type": "markdown",
   "metadata": {},
   "source": [
    "# Gradient Boosting  + 'features'"
   ]
  },
  {
   "cell_type": "markdown",
   "metadata": {},
   "source": [
    "## Train set"
   ]
  },
  {
   "cell_type": "code",
   "execution_count": 13,
   "metadata": {
    "collapsed": false
   },
   "outputs": [],
   "source": [
    "import pandas as pd\n",
    "import numpy as np\n",
    "from sklearn.metrics import log_loss\n",
    "from sklearn.metrics import make_scorer\n",
    "from sklearn.ensemble import GradientBoostingClassifier\n",
    "import cPickle\n",
    "import warnings\n",
    "warnings.filterwarnings(\"ignore\")\n",
    "from sklearn.grid_search import GridSearchCV\n",
    "from sklearn.grid_search import RandomizedSearchCV\n",
    "from sklearn.cross_validation import train_test_split\n",
    "from sklearn.cross_validation import KFold\n",
    "from sklearn.preprocessing import LabelEncoder\n",
    "from time import time\n",
    "\n",
    "pd.options.display.max_columns = 160"
   ]
  },
  {
   "cell_type": "code",
   "execution_count": 2,
   "metadata": {
    "collapsed": false
   },
   "outputs": [],
   "source": [
    "all_df = pd.read_json('train_feats_w_ids.json')\n",
    "# all_df = pd.read_csv('train_feats_max_desc.csv')"
   ]
  },
  {
   "cell_type": "code",
   "execution_count": 3,
   "metadata": {
    "collapsed": false
   },
   "outputs": [
    {
     "data": {
      "text/plain": [
       "(49352, 90)"
      ]
     },
     "execution_count": 3,
     "metadata": {},
     "output_type": "execute_result"
    }
   ],
   "source": [
    "all_df.shape\n",
    "# (49352, 83)"
   ]
  },
  {
   "cell_type": "code",
   "execution_count": 4,
   "metadata": {
    "collapsed": true
   },
   "outputs": [],
   "source": [
    "le1 = LabelEncoder()\n",
    "le1.fit(all_df['manager_id'])\n",
    "all_df['manager_id'] = le1.transform(all_df['manager_id']) \n",
    "\n",
    "le2 = LabelEncoder()\n",
    "le2.fit(all_df['building_id'])\n",
    "all_df['building_id'] = le2.transform(all_df['building_id']) \n",
    "\n",
    "le3 = LabelEncoder()\n",
    "le3.fit(all_df['display_address'])\n",
    "all_df['display_address'] = le3.transform(all_df['display_address']) "
   ]
  },
  {
   "cell_type": "code",
   "execution_count": 5,
   "metadata": {
    "collapsed": false
   },
   "outputs": [
    {
     "data": {
      "text/html": [
       "<div>\n",
       "<table border=\"1\" class=\"dataframe\">\n",
       "  <thead>\n",
       "    <tr style=\"text-align: right;\">\n",
       "      <th></th>\n",
       "      <th>actual apt. photos</th>\n",
       "      <th>all utilities included</th>\n",
       "      <th>attended lobby</th>\n",
       "      <th>balcony</th>\n",
       "      <th>bathrooms</th>\n",
       "      <th>bedrooms</th>\n",
       "      <th>bike room</th>\n",
       "      <th>brownstone</th>\n",
       "      <th>building_id</th>\n",
       "      <th>business center</th>\n",
       "      <th>cable/satellite tv</th>\n",
       "      <th>central a/c</th>\n",
       "      <th>childrens playroom</th>\n",
       "      <th>community recreation facilities</th>\n",
       "      <th>created</th>\n",
       "      <th>description</th>\n",
       "      <th>dining room</th>\n",
       "      <th>dishwasher</th>\n",
       "      <th>display_address</th>\n",
       "      <th>doorman</th>\n",
       "      <th>duplex</th>\n",
       "      <th>elevator</th>\n",
       "      <th>exclusive</th>\n",
       "      <th>exposed brick</th>\n",
       "      <th>features</th>\n",
       "      <th>fireplace</th>\n",
       "      <th>fitness center</th>\n",
       "      <th>flex-2</th>\n",
       "      <th>furnished</th>\n",
       "      <th>garage</th>\n",
       "      <th>garden/patio</th>\n",
       "      <th>granite kitchen</th>\n",
       "      <th>green building</th>\n",
       "      <th>guarantors accepted</th>\n",
       "      <th>hardwood floors</th>\n",
       "      <th>high ceilings</th>\n",
       "      <th>high speed internet</th>\n",
       "      <th>highrise</th>\n",
       "      <th>index</th>\n",
       "      <th>interest_level</th>\n",
       "      <th>latitude</th>\n",
       "      <th>laundry in building</th>\n",
       "      <th>light</th>\n",
       "      <th>listing_id</th>\n",
       "      <th>live in super</th>\n",
       "      <th>live/work</th>\n",
       "      <th>loft</th>\n",
       "      <th>longitude</th>\n",
       "      <th>lowrise</th>\n",
       "      <th>manager_id</th>\n",
       "      <th>marble bath</th>\n",
       "      <th>microwave</th>\n",
       "      <th>midrise</th>\n",
       "      <th>multi-level</th>\n",
       "      <th>new construction</th>\n",
       "      <th>no fee</th>\n",
       "      <th>no pets</th>\n",
       "      <th>num_desc</th>\n",
       "      <th>num_feats</th>\n",
       "      <th>num_photos</th>\n",
       "      <th>outdoor space</th>\n",
       "      <th>package room</th>\n",
       "      <th>parking space</th>\n",
       "      <th>pet friendly</th>\n",
       "      <th>pets on approval</th>\n",
       "      <th>post-war</th>\n",
       "      <th>pre-war</th>\n",
       "      <th>price</th>\n",
       "      <th>private outdoor space</th>\n",
       "      <th>reduced fee</th>\n",
       "      <th>renovated</th>\n",
       "      <th>residents lounge</th>\n",
       "      <th>roof deck</th>\n",
       "      <th>sauna</th>\n",
       "      <th>shares ok</th>\n",
       "      <th>short term allowed</th>\n",
       "      <th>simplex</th>\n",
       "      <th>skylight</th>\n",
       "      <th>stainless steel appliances</th>\n",
       "      <th>storage</th>\n",
       "      <th>sublet</th>\n",
       "      <th>subway</th>\n",
       "      <th>swimming pool</th>\n",
       "      <th>terrace</th>\n",
       "      <th>valet</th>\n",
       "      <th>video intercom</th>\n",
       "      <th>view</th>\n",
       "      <th>virtual doorman</th>\n",
       "      <th>walk in closet(s)</th>\n",
       "      <th>wheelchair access</th>\n",
       "    </tr>\n",
       "  </thead>\n",
       "  <tbody>\n",
       "    <tr>\n",
       "      <th>0</th>\n",
       "      <td>0</td>\n",
       "      <td>0</td>\n",
       "      <td>0</td>\n",
       "      <td>0</td>\n",
       "      <td>1.5</td>\n",
       "      <td>3</td>\n",
       "      <td>0</td>\n",
       "      <td>0</td>\n",
       "      <td>2431</td>\n",
       "      <td>0</td>\n",
       "      <td>0</td>\n",
       "      <td>0</td>\n",
       "      <td>0</td>\n",
       "      <td>0</td>\n",
       "      <td>1466754864</td>\n",
       "      <td>A Brand New 3 Bedroom 1.5 bath ApartmentEnjoy ...</td>\n",
       "      <td>0</td>\n",
       "      <td>0</td>\n",
       "      <td>6544</td>\n",
       "      <td>0</td>\n",
       "      <td>0</td>\n",
       "      <td>0</td>\n",
       "      <td>0</td>\n",
       "      <td>0</td>\n",
       "      <td>[]</td>\n",
       "      <td>0</td>\n",
       "      <td>0</td>\n",
       "      <td>0</td>\n",
       "      <td>0</td>\n",
       "      <td>0</td>\n",
       "      <td>0</td>\n",
       "      <td>0</td>\n",
       "      <td>0</td>\n",
       "      <td>0</td>\n",
       "      <td>0</td>\n",
       "      <td>0</td>\n",
       "      <td>0</td>\n",
       "      <td>0</td>\n",
       "      <td>10</td>\n",
       "      <td>medium</td>\n",
       "      <td>40.7145</td>\n",
       "      <td>0</td>\n",
       "      <td>0</td>\n",
       "      <td>7211212</td>\n",
       "      <td>0</td>\n",
       "      <td>0</td>\n",
       "      <td>0</td>\n",
       "      <td>-73.9425</td>\n",
       "      <td>0</td>\n",
       "      <td>1239</td>\n",
       "      <td>0</td>\n",
       "      <td>0</td>\n",
       "      <td>0</td>\n",
       "      <td>0</td>\n",
       "      <td>0</td>\n",
       "      <td>0</td>\n",
       "      <td>0</td>\n",
       "      <td>588</td>\n",
       "      <td>0</td>\n",
       "      <td>5</td>\n",
       "      <td>0</td>\n",
       "      <td>0</td>\n",
       "      <td>0</td>\n",
       "      <td>0</td>\n",
       "      <td>0</td>\n",
       "      <td>0</td>\n",
       "      <td>0</td>\n",
       "      <td>3000</td>\n",
       "      <td>0</td>\n",
       "      <td>0</td>\n",
       "      <td>0</td>\n",
       "      <td>0</td>\n",
       "      <td>0</td>\n",
       "      <td>0</td>\n",
       "      <td>0</td>\n",
       "      <td>0</td>\n",
       "      <td>0</td>\n",
       "      <td>0</td>\n",
       "      <td>0</td>\n",
       "      <td>1</td>\n",
       "      <td>0</td>\n",
       "      <td>0</td>\n",
       "      <td>0</td>\n",
       "      <td>0</td>\n",
       "      <td>0</td>\n",
       "      <td>0</td>\n",
       "      <td>0</td>\n",
       "      <td>0</td>\n",
       "      <td>0</td>\n",
       "      <td>0</td>\n",
       "    </tr>\n",
       "    <tr>\n",
       "      <th>1</th>\n",
       "      <td>0</td>\n",
       "      <td>0</td>\n",
       "      <td>0</td>\n",
       "      <td>0</td>\n",
       "      <td>1.0</td>\n",
       "      <td>2</td>\n",
       "      <td>0</td>\n",
       "      <td>0</td>\n",
       "      <td>5862</td>\n",
       "      <td>0</td>\n",
       "      <td>0</td>\n",
       "      <td>0</td>\n",
       "      <td>0</td>\n",
       "      <td>0</td>\n",
       "      <td>1465733967</td>\n",
       "      <td></td>\n",
       "      <td>0</td>\n",
       "      <td>0</td>\n",
       "      <td>4506</td>\n",
       "      <td>1</td>\n",
       "      <td>0</td>\n",
       "      <td>1</td>\n",
       "      <td>0</td>\n",
       "      <td>0</td>\n",
       "      <td>[Doorman, Elevator, Fitness Center, Cats Allow...</td>\n",
       "      <td>0</td>\n",
       "      <td>1</td>\n",
       "      <td>0</td>\n",
       "      <td>0</td>\n",
       "      <td>0</td>\n",
       "      <td>0</td>\n",
       "      <td>0</td>\n",
       "      <td>0</td>\n",
       "      <td>0</td>\n",
       "      <td>0</td>\n",
       "      <td>0</td>\n",
       "      <td>0</td>\n",
       "      <td>0</td>\n",
       "      <td>10000</td>\n",
       "      <td>low</td>\n",
       "      <td>40.7947</td>\n",
       "      <td>0</td>\n",
       "      <td>0</td>\n",
       "      <td>7150865</td>\n",
       "      <td>0</td>\n",
       "      <td>0</td>\n",
       "      <td>0</td>\n",
       "      <td>-73.9667</td>\n",
       "      <td>0</td>\n",
       "      <td>1583</td>\n",
       "      <td>0</td>\n",
       "      <td>0</td>\n",
       "      <td>0</td>\n",
       "      <td>0</td>\n",
       "      <td>0</td>\n",
       "      <td>0</td>\n",
       "      <td>0</td>\n",
       "      <td>8</td>\n",
       "      <td>5</td>\n",
       "      <td>11</td>\n",
       "      <td>0</td>\n",
       "      <td>0</td>\n",
       "      <td>0</td>\n",
       "      <td>1</td>\n",
       "      <td>0</td>\n",
       "      <td>0</td>\n",
       "      <td>0</td>\n",
       "      <td>5465</td>\n",
       "      <td>0</td>\n",
       "      <td>0</td>\n",
       "      <td>0</td>\n",
       "      <td>0</td>\n",
       "      <td>0</td>\n",
       "      <td>0</td>\n",
       "      <td>0</td>\n",
       "      <td>0</td>\n",
       "      <td>0</td>\n",
       "      <td>0</td>\n",
       "      <td>0</td>\n",
       "      <td>0</td>\n",
       "      <td>0</td>\n",
       "      <td>0</td>\n",
       "      <td>0</td>\n",
       "      <td>0</td>\n",
       "      <td>0</td>\n",
       "      <td>0</td>\n",
       "      <td>0</td>\n",
       "      <td>0</td>\n",
       "      <td>0</td>\n",
       "      <td>0</td>\n",
       "    </tr>\n",
       "  </tbody>\n",
       "</table>\n",
       "</div>"
      ],
      "text/plain": [
       "   actual apt. photos  all utilities included  attended lobby  balcony  \\\n",
       "0                   0                       0               0        0   \n",
       "1                   0                       0               0        0   \n",
       "\n",
       "   bathrooms  bedrooms  bike room  brownstone  building_id  business center  \\\n",
       "0        1.5         3          0           0         2431                0   \n",
       "1        1.0         2          0           0         5862                0   \n",
       "\n",
       "   cable/satellite tv  central a/c  childrens playroom  \\\n",
       "0                   0            0                   0   \n",
       "1                   0            0                   0   \n",
       "\n",
       "   community recreation facilities     created  \\\n",
       "0                                0  1466754864   \n",
       "1                                0  1465733967   \n",
       "\n",
       "                                         description  dining room  dishwasher  \\\n",
       "0  A Brand New 3 Bedroom 1.5 bath ApartmentEnjoy ...            0           0   \n",
       "1                                                               0           0   \n",
       "\n",
       "   display_address  doorman  duplex  elevator  exclusive  exposed brick  \\\n",
       "0             6544        0       0         0          0              0   \n",
       "1             4506        1       0         1          0              0   \n",
       "\n",
       "                                            features  fireplace  \\\n",
       "0                                                 []          0   \n",
       "1  [Doorman, Elevator, Fitness Center, Cats Allow...          0   \n",
       "\n",
       "   fitness center  flex-2  furnished  garage  garden/patio  granite kitchen  \\\n",
       "0               0       0          0       0             0                0   \n",
       "1               1       0          0       0             0                0   \n",
       "\n",
       "   green building  guarantors accepted  hardwood floors  high ceilings  \\\n",
       "0               0                    0                0              0   \n",
       "1               0                    0                0              0   \n",
       "\n",
       "   high speed internet  highrise  index interest_level  latitude  \\\n",
       "0                    0         0     10         medium   40.7145   \n",
       "1                    0         0  10000            low   40.7947   \n",
       "\n",
       "   laundry in building  light  listing_id  live in super  live/work  loft  \\\n",
       "0                    0      0     7211212              0          0     0   \n",
       "1                    0      0     7150865              0          0     0   \n",
       "\n",
       "   longitude  lowrise  manager_id  marble bath  microwave  midrise  \\\n",
       "0   -73.9425        0        1239            0          0        0   \n",
       "1   -73.9667        0        1583            0          0        0   \n",
       "\n",
       "   multi-level  new construction  no fee  no pets  num_desc  num_feats  \\\n",
       "0            0                 0       0        0       588          0   \n",
       "1            0                 0       0        0         8          5   \n",
       "\n",
       "   num_photos  outdoor space  package room  parking space  pet friendly  \\\n",
       "0           5              0             0              0             0   \n",
       "1          11              0             0              0             1   \n",
       "\n",
       "   pets on approval  post-war  pre-war  price  private outdoor space  \\\n",
       "0                 0         0        0   3000                      0   \n",
       "1                 0         0        0   5465                      0   \n",
       "\n",
       "   reduced fee  renovated  residents lounge  roof deck  sauna  shares ok  \\\n",
       "0            0          0                 0          0      0          0   \n",
       "1            0          0                 0          0      0          0   \n",
       "\n",
       "   short term allowed  simplex  skylight  stainless steel appliances  storage  \\\n",
       "0                   0        0         0                           0        1   \n",
       "1                   0        0         0                           0        0   \n",
       "\n",
       "   sublet  subway  swimming pool  terrace  valet  video intercom  view  \\\n",
       "0       0       0              0        0      0               0     0   \n",
       "1       0       0              0        0      0               0     0   \n",
       "\n",
       "   virtual doorman  walk in closet(s)  wheelchair access  \n",
       "0                0                  0                  0  \n",
       "1                0                  0                  0  "
      ]
     },
     "execution_count": 5,
     "metadata": {},
     "output_type": "execute_result"
    }
   ],
   "source": [
    "all_df.head(2)"
   ]
  },
  {
   "cell_type": "code",
   "execution_count": 32,
   "metadata": {
    "collapsed": false
   },
   "outputs": [],
   "source": [
    "x_train, x_val, y_train, y_val = train_test_split(all_df.drop(['interest_level'], 1),all_df[['interest_level']], test_size=0.2, random_state=42)\n"
   ]
  },
  {
   "cell_type": "code",
   "execution_count": 33,
   "metadata": {
    "collapsed": false
   },
   "outputs": [],
   "source": [
    "cat_feats = cPickle.load(open('cat_feats.p', 'rb'))\n",
    "\n",
    "for col in ['interest_level']:\n",
    "    y_train[col] = y_train[col].astype('category')\n",
    "    y_val[col] = y_val[col].astype('category')\n",
    "    \n",
    "for col in cat_feats+['manager_id', 'building_id']:\n",
    "    x_train[col] = x_train[col].astype('category')\n",
    "    x_val[col] = x_val[col].astype('category')"
   ]
  },
  {
   "cell_type": "code",
   "execution_count": 34,
   "metadata": {
    "collapsed": false
   },
   "outputs": [],
   "source": [
    "drop_list = [u'listing_id', 'index', 'created', 'features', 'description']\n",
    "x_train_small = x_train.drop(drop_list,1)\n",
    "\n",
    "x_val_small = x_val.drop(drop_list,1)"
   ]
  },
  {
   "cell_type": "code",
   "execution_count": 35,
   "metadata": {
    "collapsed": false
   },
   "outputs": [
    {
     "data": {
      "text/plain": [
       "(39481, 84)"
      ]
     },
     "execution_count": 35,
     "metadata": {},
     "output_type": "execute_result"
    }
   ],
   "source": [
    "# low_pvalues_cols = cPickle.load(open('low_pvalues_cols.p', 'rb'))\n",
    "x_train_best = x_train_small#[low_pvalues_cols]\n",
    "x_val_best = x_val_small#[low_pvalues_cols]\n",
    "x_train_best.shape\n",
    "# x_train_best.head(2)"
   ]
  },
  {
   "cell_type": "code",
   "execution_count": 38,
   "metadata": {
    "collapsed": false
   },
   "outputs": [],
   "source": [
    "for col in x_train_best.columns:\n",
    "    x_train_best[col] = x_train_best[col].astype('float')\n",
    "    x_val_best[col] = x_val_best[col].astype('float')\n",
    "\n",
    "le5 = LabelEncoder()\n",
    "le5.fit(y_train['interest_level'])\n",
    "y_train['interest_level'] = le5.transform(y_train['interest_level'])\n",
    "\n",
    "le5.fit(y_val['interest_level'])\n",
    "y_val['interest_level'] = le5.transform(y_val['interest_level']) \n",
    "\n",
    "for col in y_train.columns:\n",
    "    y_train[col] = y_train[col].astype('float')\n",
    "    y_val[col] = y_val[col].astype('float')"
   ]
  },
  {
   "cell_type": "code",
   "execution_count": 70,
   "metadata": {
    "collapsed": false
   },
   "outputs": [],
   "source": [
    "model = GradientBoostingClassifier(n_estimators=500, learning_rate=0.1, max_depth=4, max_features=0.3, random_state=0)\n",
    "# n_estimator: 500; learning_rate: 0.2; max_features: 0.4; max_depth: 3\n",
    "model = model.fit(x_train_best, y_train)\n",
    "# model = model.fit(x_train_best[x_train_best['manager_id'] != '9df32cb8dda19d3222d66e69e258616b'], y_train[x_train_best['manager_id'] != '9df32cb8dda19d3222d66e69e258616b'])"
   ]
  },
  {
   "cell_type": "code",
   "execution_count": 41,
   "metadata": {
    "collapsed": false
   },
   "outputs": [
    {
     "data": {
      "text/html": [
       "<div>\n",
       "<table border=\"1\" class=\"dataframe\">\n",
       "  <thead>\n",
       "    <tr style=\"text-align: right;\">\n",
       "      <th></th>\n",
       "      <th>high</th>\n",
       "      <th>low</th>\n",
       "      <th>medium</th>\n",
       "    </tr>\n",
       "  </thead>\n",
       "  <tbody>\n",
       "    <tr>\n",
       "      <th>0</th>\n",
       "      <td>0.086108</td>\n",
       "      <td>0.658292</td>\n",
       "      <td>0.255600</td>\n",
       "    </tr>\n",
       "    <tr>\n",
       "      <th>1</th>\n",
       "      <td>0.095992</td>\n",
       "      <td>0.532833</td>\n",
       "      <td>0.371174</td>\n",
       "    </tr>\n",
       "    <tr>\n",
       "      <th>2</th>\n",
       "      <td>0.021026</td>\n",
       "      <td>0.882554</td>\n",
       "      <td>0.096421</td>\n",
       "    </tr>\n",
       "    <tr>\n",
       "      <th>3</th>\n",
       "      <td>0.035178</td>\n",
       "      <td>0.930920</td>\n",
       "      <td>0.033903</td>\n",
       "    </tr>\n",
       "    <tr>\n",
       "      <th>4</th>\n",
       "      <td>0.651110</td>\n",
       "      <td>0.155160</td>\n",
       "      <td>0.193730</td>\n",
       "    </tr>\n",
       "  </tbody>\n",
       "</table>\n",
       "</div>"
      ],
      "text/plain": [
       "       high       low    medium\n",
       "0  0.086108  0.658292  0.255600\n",
       "1  0.095992  0.532833  0.371174\n",
       "2  0.021026  0.882554  0.096421\n",
       "3  0.035178  0.930920  0.033903\n",
       "4  0.651110  0.155160  0.193730"
      ]
     },
     "execution_count": 41,
     "metadata": {},
     "output_type": "execute_result"
    }
   ],
   "source": [
    "predicted_train = pd.DataFrame(model.predict_proba(x_train_best))\n",
    "# predicted = model.predict_proba(x)\n",
    "predicted_train.columns = ['high', 'low', 'medium']\n",
    "predicted_train.head()\n",
    "# predicted"
   ]
  },
  {
   "cell_type": "code",
   "execution_count": 42,
   "metadata": {
    "collapsed": false,
    "scrolled": true
   },
   "outputs": [
    {
     "data": {
      "text/plain": [
       "0.60433740408967906"
      ]
     },
     "execution_count": 42,
     "metadata": {},
     "output_type": "execute_result"
    }
   ],
   "source": [
    "log_loss_train = log_loss(y_train, predicted_train.as_matrix())\n",
    "log_loss_train"
   ]
  },
  {
   "cell_type": "code",
   "execution_count": 43,
   "metadata": {
    "collapsed": false,
    "scrolled": true
   },
   "outputs": [
    {
     "data": {
      "text/html": [
       "<div>\n",
       "<table border=\"1\" class=\"dataframe\">\n",
       "  <thead>\n",
       "    <tr style=\"text-align: right;\">\n",
       "      <th></th>\n",
       "      <th>high</th>\n",
       "      <th>low</th>\n",
       "      <th>medium</th>\n",
       "    </tr>\n",
       "  </thead>\n",
       "  <tbody>\n",
       "    <tr>\n",
       "      <th>0</th>\n",
       "      <td>0.021290</td>\n",
       "      <td>0.877164</td>\n",
       "      <td>0.101546</td>\n",
       "    </tr>\n",
       "    <tr>\n",
       "      <th>1</th>\n",
       "      <td>0.130384</td>\n",
       "      <td>0.603407</td>\n",
       "      <td>0.266209</td>\n",
       "    </tr>\n",
       "    <tr>\n",
       "      <th>2</th>\n",
       "      <td>0.021541</td>\n",
       "      <td>0.847015</td>\n",
       "      <td>0.131444</td>\n",
       "    </tr>\n",
       "    <tr>\n",
       "      <th>3</th>\n",
       "      <td>0.114862</td>\n",
       "      <td>0.552756</td>\n",
       "      <td>0.332382</td>\n",
       "    </tr>\n",
       "    <tr>\n",
       "      <th>4</th>\n",
       "      <td>0.031431</td>\n",
       "      <td>0.826662</td>\n",
       "      <td>0.141906</td>\n",
       "    </tr>\n",
       "  </tbody>\n",
       "</table>\n",
       "</div>"
      ],
      "text/plain": [
       "       high       low    medium\n",
       "0  0.021290  0.877164  0.101546\n",
       "1  0.130384  0.603407  0.266209\n",
       "2  0.021541  0.847015  0.131444\n",
       "3  0.114862  0.552756  0.332382\n",
       "4  0.031431  0.826662  0.141906"
      ]
     },
     "execution_count": 43,
     "metadata": {},
     "output_type": "execute_result"
    }
   ],
   "source": [
    "predicted_val = pd.DataFrame(model.predict_proba(x_val_best))\n",
    "# predicted = model.predict_proba(x)\n",
    "predicted_val.columns = ['high', 'low', 'medium']\n",
    "predicted_val.head()\n",
    "# predicted"
   ]
  },
  {
   "cell_type": "code",
   "execution_count": 44,
   "metadata": {
    "collapsed": false
   },
   "outputs": [
    {
     "data": {
      "text/plain": [
       "0.61507111678834303"
      ]
     },
     "execution_count": 44,
     "metadata": {},
     "output_type": "execute_result"
    }
   ],
   "source": [
    "log_loss_val = log_loss(y_val, predicted_val.as_matrix())\n",
    "log_loss_val"
   ]
  },
  {
   "cell_type": "code",
   "execution_count": 45,
   "metadata": {
    "collapsed": false
   },
   "outputs": [
    {
     "ename": "AttributeError",
     "evalue": "'XGBClassifier' object has no attribute 'feature_importances_'",
     "output_type": "error",
     "traceback": [
      "\u001b[0;31m---------------------------------------------------------------------------\u001b[0m",
      "\u001b[0;31mAttributeError\u001b[0m                            Traceback (most recent call last)",
      "\u001b[0;32m<ipython-input-45-a39eb50523de>\u001b[0m in \u001b[0;36m<module>\u001b[0;34m()\u001b[0m\n\u001b[0;32m----> 1\u001b[0;31m \u001b[0ma\u001b[0m \u001b[0;34m=\u001b[0m \u001b[0mzip\u001b[0m\u001b[0;34m(\u001b[0m\u001b[0mx_train_best\u001b[0m\u001b[0;34m.\u001b[0m\u001b[0mcolumns\u001b[0m\u001b[0;34m,\u001b[0m \u001b[0mlist\u001b[0m\u001b[0;34m(\u001b[0m\u001b[0mmodel\u001b[0m\u001b[0;34m.\u001b[0m\u001b[0mfeature_importances_\u001b[0m\u001b[0;34m)\u001b[0m\u001b[0;34m)\u001b[0m\u001b[0;34m\u001b[0m\u001b[0m\n\u001b[0m\u001b[1;32m      2\u001b[0m \u001b[0ma\u001b[0m\u001b[0;34m.\u001b[0m\u001b[0msort\u001b[0m\u001b[0;34m(\u001b[0m\u001b[0mkey\u001b[0m \u001b[0;34m=\u001b[0m \u001b[0;32mlambda\u001b[0m \u001b[0mt\u001b[0m\u001b[0;34m:\u001b[0m \u001b[0mt\u001b[0m\u001b[0;34m[\u001b[0m\u001b[0;36m1\u001b[0m\u001b[0;34m]\u001b[0m\u001b[0;34m,\u001b[0m \u001b[0mreverse\u001b[0m\u001b[0;34m=\u001b[0m\u001b[0mTrue\u001b[0m\u001b[0;34m)\u001b[0m\u001b[0;34m\u001b[0m\u001b[0m\n\u001b[1;32m      3\u001b[0m \u001b[0ma\u001b[0m\u001b[0;34m\u001b[0m\u001b[0m\n",
      "\u001b[0;31mAttributeError\u001b[0m: 'XGBClassifier' object has no attribute 'feature_importances_'"
     ]
    }
   ],
   "source": [
    "a = zip(x_train_best.columns, list(model.feature_importances_))\n",
    "a.sort(key = lambda t: t[1], reverse=True)\n",
    "a "
   ]
  },
  {
   "cell_type": "code",
   "execution_count": 88,
   "metadata": {
    "collapsed": false
   },
   "outputs": [
    {
     "data": {
      "text/plain": [
       "20"
      ]
     },
     "execution_count": 88,
     "metadata": {},
     "output_type": "execute_result"
    }
   ],
   "source": [
    "# bad_feats_gb = [i[0] for i in a[-20:]]\n",
    "# cPickle.dump(bad_feats_gb, open('bad_feats_gb.p', 'wb')) \n",
    "bad_feats_gb = cPickle.load(open('bad_feats_gb.p', 'rb'))\n",
    "len(bad_feats_gb)"
   ]
  },
  {
   "cell_type": "code",
   "execution_count": 89,
   "metadata": {
    "collapsed": true
   },
   "outputs": [],
   "source": [
    "x_train_best.drop(bad_feats_gb, axis=1, inplace=True)\n",
    "x_val_best.drop(bad_feats_gb, axis=1, inplace=True)"
   ]
  },
  {
   "cell_type": "code",
   "execution_count": 90,
   "metadata": {
    "collapsed": false
   },
   "outputs": [
    {
     "data": {
      "text/plain": [
       "((39481, 64), (9871, 64))"
      ]
     },
     "execution_count": 90,
     "metadata": {},
     "output_type": "execute_result"
    }
   ],
   "source": [
    "x_train_best.shape, x_val_best.shape"
   ]
  },
  {
   "cell_type": "code",
   "execution_count": 91,
   "metadata": {
    "collapsed": false
   },
   "outputs": [
    {
     "data": {
      "text/plain": [
       "[(u'price', 0.1403876354221949),\n",
       " (u'manager_id', 0.1029365337795453),\n",
       " (u'latitude', 0.10046600345742292),\n",
       " (u'longitude', 0.091100706092862707),\n",
       " (u'display_address', 0.080850508061234658),\n",
       " (u'building_id', 0.071903651343100491),\n",
       " (u'num_desc', 0.064868056535091506),\n",
       " (u'bedrooms', 0.04635575136096131),\n",
       " (u'num_feats', 0.036215129188849483),\n",
       " (u'num_photos', 0.030450993487031071),\n",
       " (u'bathrooms', 0.016492983218515056),\n",
       " (u'no fee', 0.012490006374658925),\n",
       " (u'reduced fee', 0.0073349764569794959),\n",
       " (u'pet friendly', 0.0066465987051817256),\n",
       " (u'hardwood floors', 0.0060925020627741588),\n",
       " (u'pre-war', 0.0059066467686295521),\n",
       " (u'laundry in building', 0.0057772566784935909),\n",
       " (u'private outdoor space', 0.0057527249992516448),\n",
       " (u'view', 0.0056238566756772477),\n",
       " (u'elevator', 0.0048210584567277941),\n",
       " (u'furnished', 0.004758354433627641),\n",
       " (u'outdoor space', 0.0047068301140478904),\n",
       " (u'dining room', 0.00462086354606409),\n",
       " (u'light', 0.004564215830092859),\n",
       " (u'fitness center', 0.0042617165680933697),\n",
       " (u'granite kitchen', 0.0041528513697773667),\n",
       " (u'exclusive', 0.0040787044729364268),\n",
       " (u'stainless steel appliances', 0.0040347820094420086),\n",
       " (u'subway', 0.0040035198493727896),\n",
       " (u'exposed brick', 0.003921337161610413),\n",
       " (u'dishwasher', 0.0038700857682443589),\n",
       " (u'doorman', 0.0038616036174138569),\n",
       " (u'marble bath', 0.0037622339170397881),\n",
       " (u'roof deck', 0.003572246492816128),\n",
       " (u'loft', 0.0034940267895122363),\n",
       " (u'renovated', 0.0034515192108149459),\n",
       " (u'wheelchair access', 0.0033762487250925985),\n",
       " (u'high ceilings', 0.0032635989196246021),\n",
       " (u'live in super', 0.0032313335243850448),\n",
       " (u'high speed internet', 0.0031786080177349167),\n",
       " (u'microwave', 0.0031499439167293323),\n",
       " (u'swimming pool', 0.003128489588632296),\n",
       " (u'pets on approval', 0.0029438468251424903),\n",
       " (u'residents lounge', 0.0028543320565347602),\n",
       " (u'garden/patio', 0.0028001055853311258),\n",
       " (u'balcony', 0.0027783226379282737),\n",
       " (u'new construction', 0.0027595760508109845),\n",
       " (u'virtual doorman', 0.0027236205256917145),\n",
       " (u'actual apt. photos', 0.0026098112117443084),\n",
       " (u'parking space', 0.0025440584179084094),\n",
       " (u'video intercom', 0.0025417847509887283),\n",
       " (u'bike room', 0.0023732378375526915),\n",
       " (u'walk in closet(s)', 0.0022569428880439414),\n",
       " (u'central a/c', 0.0022356000818836348),\n",
       " (u'storage', 0.0022250164746960531),\n",
       " (u'terrace', 0.0021921672650713495),\n",
       " (u'sublet', 0.0021518759000369991),\n",
       " (u'fireplace', 0.0021352134233725288),\n",
       " (u'short term allowed', 0.0021204369827803517),\n",
       " (u'no pets', 0.0020881066289675058),\n",
       " (u'business center', 0.002048948196824663),\n",
       " (u'attended lobby', 0.0019688985868280056),\n",
       " (u'garage', 0.0018605170343767997),\n",
       " (u'brownstone', 0.0017167401816285822),\n",
       " (u'valet', 0.0017083977103631587),\n",
       " (u'skylight', 0.0016505506274284351),\n",
       " (u'multi-level', 0.001629398223351911),\n",
       " (u'sauna', 0.0015847673386166744),\n",
       " (u'simplex', 0.0015719268210961975),\n",
       " (u'all utilities included', 0.0014032705757190483),\n",
       " (u'duplex', 0.0012691018466017196),\n",
       " (u'flex-2', 0.0012076324316481655),\n",
       " (u'green building', 0.0011259541344835937),\n",
       " (u'highrise', 0.0011088733501054314),\n",
       " (u'shares ok', 0.0010672612010076432),\n",
       " (u'community recreation facilities', 0.0009963051550144343),\n",
       " (u'package room', 0.0009109663603054744),\n",
       " (u'post-war', 0.00082884511698545435),\n",
       " (u'childrens playroom', 0.00079050793499923274),\n",
       " (u'lowrise', 0.00073216584290024939),\n",
       " (u'cable/satellite tv', 0.00070661424958056449),\n",
       " (u'live/work', 0.00054039624569217337),\n",
       " (u'guarantors accepted', 0.00021990396004226853),\n",
       " (u'midrise', 0.00010130836162589599)]"
      ]
     },
     "execution_count": 91,
     "metadata": {},
     "output_type": "execute_result"
    }
   ],
   "source": [
    "a"
   ]
  },
  {
   "cell_type": "markdown",
   "metadata": {},
   "source": [
    "## Randomized Search"
   ]
  },
  {
   "cell_type": "code",
   "execution_count": 13,
   "metadata": {
    "collapsed": false
   },
   "outputs": [
    {
     "data": {
      "text/plain": [
       "make_scorer(log_loss, greater_is_better=False, needs_proba=True)"
      ]
     },
     "execution_count": 13,
     "metadata": {},
     "output_type": "execute_result"
    }
   ],
   "source": [
    "log_scoring=make_scorer(log_loss, greater_is_better=False, needs_proba=True)\n",
    "log_scoring"
   ]
  },
  {
   "cell_type": "code",
   "execution_count": 23,
   "metadata": {
    "collapsed": false
   },
   "outputs": [],
   "source": [
    "clf = GradientBoostingClassifier()\n",
    "# specify parameters and distributions to sample from\n",
    "param_dist = {\"max_depth\": [1, 2, 3, 4, 5, 6, 7, 8],\n",
    "              \"max_features\": ['sqrt',0.2, 0.3, 0.4, 0.5],\n",
    "              \"n_estimators\": [300, 400, 500, 600, 700, 800],\n",
    "              \"learning_rate\": [round(i,2) for i in np.arange(0.05,0.2,0.01)]\n",
    "             \"min_samples_split\": [None, 100, 300, 400, 500, 600, 800, 1000]\n",
    "             \"min_samples_leaf\": [None, 20, 40, 50, 70 ,100]}\n",
    "\n",
    "# run randomized search\n",
    "n_iter_search = 10\n",
    "random_search = RandomizedSearchCV(clf, param_distributions=param_dist,\n",
    "                                   n_iter=n_iter_search, cv=5, n_jobs=3, scoring=log_scoring, verbose=1)"
   ]
  },
  {
   "cell_type": "code",
   "execution_count": 24,
   "metadata": {
    "collapsed": false,
    "scrolled": false
   },
   "outputs": [
    {
     "name": "stdout",
     "output_type": "stream",
     "text": [
      "Fitting 5 folds for each of 50 candidates, totalling 250 fits\n"
     ]
    },
    {
     "name": "stderr",
     "output_type": "stream",
     "text": [
      "[Parallel(n_jobs=-1)]: Done  42 tasks      | elapsed:  4.6min\n",
      "[Parallel(n_jobs=-1)]: Done 192 tasks      | elapsed: 28.9min\n",
      "[Parallel(n_jobs=-1)]: Done 250 out of 250 | elapsed: 36.8min finished\n"
     ]
    },
    {
     "name": "stdout",
     "output_type": "stream",
     "text": [
      "RandomizedSearchCV took 2278.45 seconds for 50 candidates parameter settings.\n"
     ]
    }
   ],
   "source": [
    "start = time()\n",
    "search = random_search.fit(x_train_best, y_train['interest_level'])\n",
    "print(\"RandomizedSearchCV took %.2f seconds for %d candidates\"\n",
    "      \" parameter settings.\" % ((time() - start), n_iter_search))\n",
    "# report(random_search.cv_results_)"
   ]
  },
  {
   "cell_type": "code",
   "execution_count": 25,
   "metadata": {
    "collapsed": false
   },
   "outputs": [
    {
     "data": {
      "text/plain": [
       "[mean: -0.60351, std: 0.00468, params: {'n_estimators': 100, 'max_features': 0.5, 'learning_rate': 0.4, 'max_depth': 3},\n",
       " mean: -0.60840, std: 0.00507, params: {'n_estimators': 500, 'max_features': 'sqrt', 'learning_rate': 0.4, 'max_depth': 3},\n",
       " mean: -0.60283, std: 0.00531, params: {'n_estimators': 300, 'max_features': 0.5, 'learning_rate': 0.3, 'max_depth': 2},\n",
       " mean: -0.66456, std: 0.00318, params: {'n_estimators': 100, 'max_features': 0.4, 'learning_rate': 0.2, 'max_depth': 1},\n",
       " mean: -0.62078, std: 0.00342, params: {'n_estimators': 100, 'max_features': 'sqrt', 'learning_rate': 0.2, 'max_depth': 4},\n",
       " mean: -0.61199, std: 0.00238, params: {'n_estimators': 100, 'max_features': 0.2, 'learning_rate': 0.3, 'max_depth': 3},\n",
       " mean: -0.62395, std: 0.00457, params: {'n_estimators': 100, 'max_features': 0.2, 'learning_rate': 0.2, 'max_depth': 3},\n",
       " mean: -0.59802, std: 0.00361, params: {'n_estimators': 300, 'max_features': 0.3, 'learning_rate': 0.3, 'max_depth': 3},\n",
       " mean: -0.64229, std: 0.00346, params: {'n_estimators': 300, 'max_features': 0.2, 'learning_rate': 0.2, 'max_depth': 1},\n",
       " mean: -0.64150, std: 0.00331, params: {'n_estimators': 500, 'max_features': 0.4, 'learning_rate': 0.1, 'max_depth': 1},\n",
       " mean: -0.63426, std: 0.00366, params: {'n_estimators': 100, 'max_features': 0.3, 'learning_rate': 0.2, 'max_depth': 2},\n",
       " mean: -0.61472, std: 0.00378, params: {'n_estimators': 100, 'max_features': 0.5, 'learning_rate': 0.1, 'max_depth': 4},\n",
       " mean: -0.60913, std: 0.00380, params: {'n_estimators': 300, 'max_features': 0.3, 'learning_rate': 0.2, 'max_depth': 2},\n",
       " mean: -0.60506, std: 0.00329, params: {'n_estimators': 500, 'max_features': 0.4, 'learning_rate': 0.6, 'max_depth': 2},\n",
       " mean: -0.70953, std: 0.00837, params: {'n_estimators': 500, 'max_features': 0.4, 'learning_rate': 0.6, 'max_depth': 4},\n",
       " mean: -0.61113, std: 0.00681, params: {'n_estimators': 300, 'max_features': 0.4, 'learning_rate': 0.3, 'max_depth': 4},\n",
       " mean: -0.68656, std: 0.00303, params: {'n_estimators': 100, 'max_features': 0.5, 'learning_rate': 0.1, 'max_depth': 1},\n",
       " mean: -0.59896, std: 0.00336, params: {'n_estimators': 500, 'max_features': 'sqrt', 'learning_rate': 0.2, 'max_depth': 3},\n",
       " mean: -0.59333, std: 0.00379, params: {'n_estimators': 500, 'max_features': 0.3, 'learning_rate': 0.1, 'max_depth': 4},\n",
       " mean: -0.61198, std: 0.00277, params: {'n_estimators': 300, 'max_features': 'sqrt', 'learning_rate': 0.6, 'max_depth': 3},\n",
       " mean: -0.65136, std: 0.00356, params: {'n_estimators': 100, 'max_features': 0.4, 'learning_rate': 0.1, 'max_depth': 2},\n",
       " mean: -0.60558, std: 0.00222, params: {'n_estimators': 300, 'max_features': 'sqrt', 'learning_rate': 0.4, 'max_depth': 3},\n",
       " mean: -0.61673, std: 0.00805, params: {'n_estimators': 100, 'max_features': 0.2, 'learning_rate': 0.6, 'max_depth': 4},\n",
       " mean: -0.62665, std: 0.00330, params: {'n_estimators': 500, 'max_features': 'sqrt', 'learning_rate': 0.4, 'max_depth': 1},\n",
       " mean: -0.60688, std: 0.00756, params: {'n_estimators': 300, 'max_features': 0.3, 'learning_rate': 0.4, 'max_depth': 3},\n",
       " mean: -0.60571, std: 0.00291, params: {'n_estimators': 300, 'max_features': 0.3, 'learning_rate': 0.1, 'max_depth': 3},\n",
       " mean: -0.63043, std: 0.00379, params: {'n_estimators': 100, 'max_features': 0.4, 'learning_rate': 0.1, 'max_depth': 3},\n",
       " mean: -0.64049, std: 0.00287, params: {'n_estimators': 100, 'max_features': 0.2, 'learning_rate': 0.2, 'max_depth': 2},\n",
       " mean: -0.65048, std: 0.00383, params: {'n_estimators': 300, 'max_features': 'sqrt', 'learning_rate': 0.2, 'max_depth': 1},\n",
       " mean: -0.69041, std: 0.00346, params: {'n_estimators': 100, 'max_features': 0.3, 'learning_rate': 0.1, 'max_depth': 1},\n",
       " mean: -0.62740, std: 0.00580, params: {'n_estimators': 500, 'max_features': 0.5, 'learning_rate': 0.3, 'max_depth': 1},\n",
       " mean: -0.63310, std: 0.00360, params: {'n_estimators': 100, 'max_features': 0.3, 'learning_rate': 0.1, 'max_depth': 3},\n",
       " mean: -0.62697, std: 0.00585, params: {'n_estimators': 100, 'max_features': 0.3, 'learning_rate': 0.3, 'max_depth': 2},\n",
       " mean: -0.62680, std: 0.00528, params: {'n_estimators': 500, 'max_features': 0.2, 'learning_rate': 0.3, 'max_depth': 1},\n",
       " mean: -0.61368, std: 0.00484, params: {'n_estimators': 500, 'max_features': 0.2, 'learning_rate': 0.3, 'max_depth': 4},\n",
       " mean: -0.60380, std: 0.00561, params: {'n_estimators': 100, 'max_features': 0.5, 'learning_rate': 0.4, 'max_depth': 4},\n",
       " mean: -0.63911, std: 0.00331, params: {'n_estimators': 500, 'max_features': 'sqrt', 'learning_rate': 0.2, 'max_depth': 1},\n",
       " mean: -0.82030, std: 0.25534, params: {'n_estimators': 500, 'max_features': 0.2, 'learning_rate': 0.6, 'max_depth': 4},\n",
       " mean: -0.60888, std: 0.00660, params: {'n_estimators': 300, 'max_features': 'sqrt', 'learning_rate': 0.6, 'max_depth': 2},\n",
       " mean: -0.62461, std: 0.00580, params: {'n_estimators': 500, 'max_features': 0.3, 'learning_rate': 0.4, 'max_depth': 1},\n",
       " mean: -0.61358, std: 0.00540, params: {'n_estimators': 500, 'max_features': 'sqrt', 'learning_rate': 0.2, 'max_depth': 2},\n",
       " mean: -0.63148, std: 0.00454, params: {'n_estimators': 100, 'max_features': 0.4, 'learning_rate': 0.2, 'max_depth': 2},\n",
       " mean: -0.60011, std: 0.00272, params: {'n_estimators': 500, 'max_features': 0.2, 'learning_rate': 0.1, 'max_depth': 3},\n",
       " mean: -0.61406, std: 0.00546, params: {'n_estimators': 300, 'max_features': 0.2, 'learning_rate': 0.6, 'max_depth': 3},\n",
       " mean: -0.60248, std: 0.00516, params: {'n_estimators': 300, 'max_features': 0.3, 'learning_rate': 0.6, 'max_depth': 2},\n",
       " mean: -0.60058, std: 0.00468, params: {'n_estimators': 300, 'max_features': 0.5, 'learning_rate': 0.4, 'max_depth': 2},\n",
       " mean: -0.60627, std: 0.00469, params: {'n_estimators': 500, 'max_features': 'sqrt', 'learning_rate': 0.3, 'max_depth': 2},\n",
       " mean: -0.61093, std: 0.00293, params: {'n_estimators': 100, 'max_features': 'sqrt', 'learning_rate': 0.4, 'max_depth': 4},\n",
       " mean: -0.60146, std: 0.00374, params: {'n_estimators': 500, 'max_features': 0.5, 'learning_rate': 0.2, 'max_depth': 2},\n",
       " mean: -0.65324, std: 0.00363, params: {'n_estimators': 300, 'max_features': 0.5, 'learning_rate': 0.1, 'max_depth': 1}]"
      ]
     },
     "execution_count": 25,
     "metadata": {},
     "output_type": "execute_result"
    }
   ],
   "source": [
    "search.grid_scores_"
   ]
  },
  {
   "cell_type": "code",
   "execution_count": 26,
   "metadata": {
    "collapsed": false
   },
   "outputs": [
    {
     "data": {
      "text/plain": [
       "(-0.5933256136564423,\n",
       " GradientBoostingClassifier(criterion='friedman_mse', init=None,\n",
       "               learning_rate=0.1, loss='deviance', max_depth=4,\n",
       "               max_features=0.3, max_leaf_nodes=None,\n",
       "               min_impurity_split=1e-07, min_samples_leaf=1,\n",
       "               min_samples_split=2, min_weight_fraction_leaf=0.0,\n",
       "               n_estimators=500, presort='auto', random_state=None,\n",
       "               subsample=1.0, verbose=0, warm_start=False),\n",
       " {'learning_rate': 0.1,\n",
       "  'max_depth': 4,\n",
       "  'max_features': 0.3,\n",
       "  'n_estimators': 500})"
      ]
     },
     "execution_count": 26,
     "metadata": {},
     "output_type": "execute_result"
    }
   ],
   "source": [
    "search.best_score_, search.best_estimator_, search.best_params_"
   ]
  },
  {
   "cell_type": "code",
   "execution_count": 149,
   "metadata": {
    "collapsed": false
   },
   "outputs": [
    {
     "data": {
      "text/plain": [
       "((39481, 60), (39481, 1))"
      ]
     },
     "execution_count": 149,
     "metadata": {},
     "output_type": "execute_result"
    }
   ],
   "source": [
    "x_train_best.shape, y_train.shape"
   ]
  },
  {
   "cell_type": "markdown",
   "metadata": {},
   "source": [
    "## Cross Validation"
   ]
  },
  {
   "cell_type": "code",
   "execution_count": 152,
   "metadata": {
    "collapsed": false
   },
   "outputs": [],
   "source": [
    "def get_cv_loss(ne, lr, md, mf):\n",
    "    kf = KFold(x_train_best.shape[0], n_folds=5, random_state=2017)\n",
    "    loss_tr = []\n",
    "    loss_ts = []\n",
    "    for train_index, test_index in kf:\n",
    "        x_tr = x_train_best.reset_index().loc[train_index].set_index(['index'])\n",
    "        y_tr =  y_train.reset_index().loc[train_index].set_index(['index'])\n",
    "        x_ts = x_train_best.reset_index().loc[test_index].set_index(['index'])\n",
    "        y_ts = y_train.reset_index().loc[test_index].set_index(['index'])\n",
    "\n",
    "        model = GradientBoostingClassifier(n_estimators=ne, learning_rate=lr, max_depth=md, max_features=mf, random_state=20)\n",
    "\n",
    "        model = model.fit(x_tr, y_tr)\n",
    "\n",
    "        predicted_ts = pd.DataFrame(model.predict_proba(x_ts))\n",
    "        predicted_ts.columns = ['high', 'low', 'medium']\n",
    "        log_loss_ts = log_loss(y_ts, predicted_ts.as_matrix())\n",
    "        loss_ts.append(log_loss_ts)\n",
    "    \n",
    "    print 'CV loss:', np.mean(loss_ts)\n",
    "    predicted_val = pd.DataFrame(model.predict_proba(x_val_best))\n",
    "    predicted_val.columns = ['high', 'low', 'medium']\n",
    "    log_loss_val = log_loss(y_val, predicted_val.as_matrix())\n",
    "    print 'Val loss:', log_loss_val\n",
    "    return np.mean(loss_ts)"
   ]
  },
  {
   "cell_type": "code",
   "execution_count": 153,
   "metadata": {
    "collapsed": false,
    "scrolled": false
   },
   "outputs": [
    {
     "name": "stdout",
     "output_type": "stream",
     "text": [
      "50\n",
      "n_estimator: 500; learning_rate: 0.4; max_features: sqrt; max_depth: 1\n",
      "CV loss: 0.625799776246\n",
      "Val loss: 0.628988463414\n",
      "51\n",
      "n_estimator: 500; learning_rate: 0.4; max_features: 0.2; max_depth: 1\n",
      "CV loss: 0.624416750049\n",
      "Val loss: 0.622868663987\n",
      "52\n",
      "n_estimator: 500; learning_rate: 0.4; max_features: 0.4; max_depth: 1\n",
      "CV loss: 0.624925251005\n",
      "Val loss: 0.620767325559\n",
      "53\n",
      "n_estimator: 500; learning_rate: 0.4; max_features: 0.8; max_depth: 1\n",
      "CV loss: 0.626268963256\n",
      "Val loss: 0.620891598599\n",
      "54\n",
      "n_estimator: 500; learning_rate: 0.4; max_features: sqrt; max_depth: 3\n"
     ]
    },
    {
     "ename": "KeyboardInterrupt",
     "evalue": "",
     "output_type": "error",
     "traceback": [
      "\u001b[0;31m---------------------------------------------------------------------------\u001b[0m",
      "\u001b[0;31mKeyboardInterrupt\u001b[0m                         Traceback (most recent call last)",
      "\u001b[0;32m<ipython-input-153-81e4619cd2a9>\u001b[0m in \u001b[0;36m<module>\u001b[0;34m()\u001b[0m\n\u001b[1;32m     27\u001b[0m     \u001b[0;31m#                 best_loss = log_loss_val\u001b[0m\u001b[0;34m\u001b[0m\u001b[0;34m\u001b[0m\u001b[0m\n\u001b[1;32m     28\u001b[0m     \u001b[0;31m#                 best_params = params\u001b[0m\u001b[0;34m\u001b[0m\u001b[0;34m\u001b[0m\u001b[0m\n\u001b[0;32m---> 29\u001b[0;31m                 \u001b[0mcv_loss\u001b[0m \u001b[0;34m=\u001b[0m \u001b[0mget_cv_loss\u001b[0m\u001b[0;34m(\u001b[0m\u001b[0mne\u001b[0m\u001b[0;34m,\u001b[0m \u001b[0mlr\u001b[0m\u001b[0;34m,\u001b[0m \u001b[0mmd\u001b[0m\u001b[0;34m,\u001b[0m \u001b[0mmf\u001b[0m\u001b[0;34m)\u001b[0m\u001b[0;34m\u001b[0m\u001b[0m\n\u001b[0m\u001b[1;32m     30\u001b[0m                 \u001b[0;32mif\u001b[0m \u001b[0mcv_loss\u001b[0m \u001b[0;34m<\u001b[0m \u001b[0mbest_loss\u001b[0m\u001b[0;34m:\u001b[0m\u001b[0;34m\u001b[0m\u001b[0m\n\u001b[1;32m     31\u001b[0m                     \u001b[0mbest_loss\u001b[0m \u001b[0;34m=\u001b[0m \u001b[0mcv_loss\u001b[0m\u001b[0;34m\u001b[0m\u001b[0m\n",
      "\u001b[0;32m<ipython-input-152-5b5d200f7b71>\u001b[0m in \u001b[0;36mget_cv_loss\u001b[0;34m(ne, lr, md, mf)\u001b[0m\n\u001b[1;32m     11\u001b[0m         \u001b[0mmodel\u001b[0m \u001b[0;34m=\u001b[0m \u001b[0mGradientBoostingClassifier\u001b[0m\u001b[0;34m(\u001b[0m\u001b[0mn_estimators\u001b[0m\u001b[0;34m=\u001b[0m\u001b[0mne\u001b[0m\u001b[0;34m,\u001b[0m \u001b[0mlearning_rate\u001b[0m\u001b[0;34m=\u001b[0m\u001b[0mlr\u001b[0m\u001b[0;34m,\u001b[0m \u001b[0mmax_depth\u001b[0m\u001b[0;34m=\u001b[0m\u001b[0mmd\u001b[0m\u001b[0;34m,\u001b[0m \u001b[0mmax_features\u001b[0m\u001b[0;34m=\u001b[0m\u001b[0mmf\u001b[0m\u001b[0;34m,\u001b[0m \u001b[0mrandom_state\u001b[0m\u001b[0;34m=\u001b[0m\u001b[0;36m20\u001b[0m\u001b[0;34m)\u001b[0m\u001b[0;34m\u001b[0m\u001b[0m\n\u001b[1;32m     12\u001b[0m \u001b[0;34m\u001b[0m\u001b[0m\n\u001b[0;32m---> 13\u001b[0;31m         \u001b[0mmodel\u001b[0m \u001b[0;34m=\u001b[0m \u001b[0mmodel\u001b[0m\u001b[0;34m.\u001b[0m\u001b[0mfit\u001b[0m\u001b[0;34m(\u001b[0m\u001b[0mx_tr\u001b[0m\u001b[0;34m,\u001b[0m \u001b[0my_tr\u001b[0m\u001b[0;34m)\u001b[0m\u001b[0;34m\u001b[0m\u001b[0m\n\u001b[0m\u001b[1;32m     14\u001b[0m \u001b[0;34m\u001b[0m\u001b[0m\n\u001b[1;32m     15\u001b[0m         \u001b[0mpredicted_ts\u001b[0m \u001b[0;34m=\u001b[0m \u001b[0mpd\u001b[0m\u001b[0;34m.\u001b[0m\u001b[0mDataFrame\u001b[0m\u001b[0;34m(\u001b[0m\u001b[0mmodel\u001b[0m\u001b[0;34m.\u001b[0m\u001b[0mpredict_proba\u001b[0m\u001b[0;34m(\u001b[0m\u001b[0mx_ts\u001b[0m\u001b[0;34m)\u001b[0m\u001b[0;34m)\u001b[0m\u001b[0;34m\u001b[0m\u001b[0m\n",
      "\u001b[0;32m/Users/tamirlan/anaconda/lib/python2.7/site-packages/sklearn/ensemble/gradient_boosting.pyc\u001b[0m in \u001b[0;36mfit\u001b[0;34m(self, X, y, sample_weight, monitor)\u001b[0m\n\u001b[1;32m   1026\u001b[0m         \u001b[0;31m# fit the boosting stages\u001b[0m\u001b[0;34m\u001b[0m\u001b[0;34m\u001b[0m\u001b[0m\n\u001b[1;32m   1027\u001b[0m         n_stages = self._fit_stages(X, y, y_pred, sample_weight, random_state,\n\u001b[0;32m-> 1028\u001b[0;31m                                     begin_at_stage, monitor, X_idx_sorted)\n\u001b[0m\u001b[1;32m   1029\u001b[0m         \u001b[0;31m# change shape of arrays after fit (early-stopping or additional ests)\u001b[0m\u001b[0;34m\u001b[0m\u001b[0;34m\u001b[0m\u001b[0m\n\u001b[1;32m   1030\u001b[0m         \u001b[0;32mif\u001b[0m \u001b[0mn_stages\u001b[0m \u001b[0;34m!=\u001b[0m \u001b[0mself\u001b[0m\u001b[0;34m.\u001b[0m\u001b[0mestimators_\u001b[0m\u001b[0;34m.\u001b[0m\u001b[0mshape\u001b[0m\u001b[0;34m[\u001b[0m\u001b[0;36m0\u001b[0m\u001b[0;34m]\u001b[0m\u001b[0;34m:\u001b[0m\u001b[0;34m\u001b[0m\u001b[0m\n",
      "\u001b[0;32m/Users/tamirlan/anaconda/lib/python2.7/site-packages/sklearn/ensemble/gradient_boosting.pyc\u001b[0m in \u001b[0;36m_fit_stages\u001b[0;34m(self, X, y, y_pred, sample_weight, random_state, begin_at_stage, monitor, X_idx_sorted)\u001b[0m\n\u001b[1;32m   1081\u001b[0m             y_pred = self._fit_stage(i, X, y, y_pred, sample_weight,\n\u001b[1;32m   1082\u001b[0m                                      \u001b[0msample_mask\u001b[0m\u001b[0;34m,\u001b[0m \u001b[0mrandom_state\u001b[0m\u001b[0;34m,\u001b[0m \u001b[0mX_idx_sorted\u001b[0m\u001b[0;34m,\u001b[0m\u001b[0;34m\u001b[0m\u001b[0m\n\u001b[0;32m-> 1083\u001b[0;31m                                      X_csc, X_csr)\n\u001b[0m\u001b[1;32m   1084\u001b[0m \u001b[0;34m\u001b[0m\u001b[0m\n\u001b[1;32m   1085\u001b[0m             \u001b[0;31m# track deviance (= loss)\u001b[0m\u001b[0;34m\u001b[0m\u001b[0;34m\u001b[0m\u001b[0m\n",
      "\u001b[0;32m/Users/tamirlan/anaconda/lib/python2.7/site-packages/sklearn/ensemble/gradient_boosting.pyc\u001b[0m in \u001b[0;36m_fit_stage\u001b[0;34m(self, i, X, y, y_pred, sample_weight, sample_mask, random_state, X_idx_sorted, X_csc, X_csr)\u001b[0m\n\u001b[1;32m    761\u001b[0m \u001b[0;34m\u001b[0m\u001b[0m\n\u001b[1;32m    762\u001b[0m             residual = loss.negative_gradient(y, y_pred, k=k,\n\u001b[0;32m--> 763\u001b[0;31m                                               sample_weight=sample_weight)\n\u001b[0m\u001b[1;32m    764\u001b[0m \u001b[0;34m\u001b[0m\u001b[0m\n\u001b[1;32m    765\u001b[0m             \u001b[0;31m# induce regression tree on residuals\u001b[0m\u001b[0;34m\u001b[0m\u001b[0;34m\u001b[0m\u001b[0m\n",
      "\u001b[0;32m/Users/tamirlan/anaconda/lib/python2.7/site-packages/sklearn/ensemble/gradient_boosting.pyc\u001b[0m in \u001b[0;36mnegative_gradient\u001b[0;34m(self, y, pred, k, **kwargs)\u001b[0m\n\u001b[1;32m    562\u001b[0m         \u001b[0;34m\"\"\"Compute negative gradient for the ``k``-th class. \"\"\"\u001b[0m\u001b[0;34m\u001b[0m\u001b[0m\n\u001b[1;32m    563\u001b[0m         return y - np.nan_to_num(np.exp(pred[:, k] -\n\u001b[0;32m--> 564\u001b[0;31m                                         logsumexp(pred, axis=1)))\n\u001b[0m\u001b[1;32m    565\u001b[0m \u001b[0;34m\u001b[0m\u001b[0m\n\u001b[1;32m    566\u001b[0m     def _update_terminal_region(self, tree, terminal_regions, leaf, X, y,\n",
      "\u001b[0;32m/Users/tamirlan/anaconda/lib/python2.7/site-packages/sklearn/utils/extmath.pyc\u001b[0m in \u001b[0;36mlogsumexp\u001b[0;34m(arr, axis)\u001b[0m\n\u001b[1;32m    407\u001b[0m     \u001b[0;31m# Use the max to normalize, as with the log this is what accumulates\u001b[0m\u001b[0;34m\u001b[0m\u001b[0;34m\u001b[0m\u001b[0m\n\u001b[1;32m    408\u001b[0m     \u001b[0;31m# the less errors\u001b[0m\u001b[0;34m\u001b[0m\u001b[0;34m\u001b[0m\u001b[0m\n\u001b[0;32m--> 409\u001b[0;31m     \u001b[0mvmax\u001b[0m \u001b[0;34m=\u001b[0m \u001b[0marr\u001b[0m\u001b[0;34m.\u001b[0m\u001b[0mmax\u001b[0m\u001b[0;34m(\u001b[0m\u001b[0maxis\u001b[0m\u001b[0;34m=\u001b[0m\u001b[0;36m0\u001b[0m\u001b[0;34m)\u001b[0m\u001b[0;34m\u001b[0m\u001b[0m\n\u001b[0m\u001b[1;32m    410\u001b[0m     \u001b[0mout\u001b[0m \u001b[0;34m=\u001b[0m \u001b[0mnp\u001b[0m\u001b[0;34m.\u001b[0m\u001b[0mlog\u001b[0m\u001b[0;34m(\u001b[0m\u001b[0mnp\u001b[0m\u001b[0;34m.\u001b[0m\u001b[0msum\u001b[0m\u001b[0;34m(\u001b[0m\u001b[0mnp\u001b[0m\u001b[0;34m.\u001b[0m\u001b[0mexp\u001b[0m\u001b[0;34m(\u001b[0m\u001b[0marr\u001b[0m \u001b[0;34m-\u001b[0m \u001b[0mvmax\u001b[0m\u001b[0;34m)\u001b[0m\u001b[0;34m,\u001b[0m \u001b[0maxis\u001b[0m\u001b[0;34m=\u001b[0m\u001b[0;36m0\u001b[0m\u001b[0;34m)\u001b[0m\u001b[0;34m)\u001b[0m\u001b[0;34m\u001b[0m\u001b[0m\n\u001b[1;32m    411\u001b[0m     \u001b[0mout\u001b[0m \u001b[0;34m+=\u001b[0m \u001b[0mvmax\u001b[0m\u001b[0;34m\u001b[0m\u001b[0m\n",
      "\u001b[0;32m/Users/tamirlan/anaconda/lib/python2.7/site-packages/numpy/core/_methods.pyc\u001b[0m in \u001b[0;36m_amax\u001b[0;34m(a, axis, out, keepdims)\u001b[0m\n\u001b[1;32m     24\u001b[0m \u001b[0;31m# small reductions\u001b[0m\u001b[0;34m\u001b[0m\u001b[0;34m\u001b[0m\u001b[0m\n\u001b[1;32m     25\u001b[0m \u001b[0;32mdef\u001b[0m \u001b[0m_amax\u001b[0m\u001b[0;34m(\u001b[0m\u001b[0ma\u001b[0m\u001b[0;34m,\u001b[0m \u001b[0maxis\u001b[0m\u001b[0;34m=\u001b[0m\u001b[0mNone\u001b[0m\u001b[0;34m,\u001b[0m \u001b[0mout\u001b[0m\u001b[0;34m=\u001b[0m\u001b[0mNone\u001b[0m\u001b[0;34m,\u001b[0m \u001b[0mkeepdims\u001b[0m\u001b[0;34m=\u001b[0m\u001b[0mFalse\u001b[0m\u001b[0;34m)\u001b[0m\u001b[0;34m:\u001b[0m\u001b[0;34m\u001b[0m\u001b[0m\n\u001b[0;32m---> 26\u001b[0;31m     \u001b[0;32mreturn\u001b[0m \u001b[0mumr_maximum\u001b[0m\u001b[0;34m(\u001b[0m\u001b[0ma\u001b[0m\u001b[0;34m,\u001b[0m \u001b[0maxis\u001b[0m\u001b[0;34m,\u001b[0m \u001b[0mNone\u001b[0m\u001b[0;34m,\u001b[0m \u001b[0mout\u001b[0m\u001b[0;34m,\u001b[0m \u001b[0mkeepdims\u001b[0m\u001b[0;34m)\u001b[0m\u001b[0;34m\u001b[0m\u001b[0m\n\u001b[0m\u001b[1;32m     27\u001b[0m \u001b[0;34m\u001b[0m\u001b[0m\n\u001b[1;32m     28\u001b[0m \u001b[0;32mdef\u001b[0m \u001b[0m_amin\u001b[0m\u001b[0;34m(\u001b[0m\u001b[0ma\u001b[0m\u001b[0;34m,\u001b[0m \u001b[0maxis\u001b[0m\u001b[0;34m=\u001b[0m\u001b[0mNone\u001b[0m\u001b[0;34m,\u001b[0m \u001b[0mout\u001b[0m\u001b[0;34m=\u001b[0m\u001b[0mNone\u001b[0m\u001b[0;34m,\u001b[0m \u001b[0mkeepdims\u001b[0m\u001b[0;34m=\u001b[0m\u001b[0mFalse\u001b[0m\u001b[0;34m)\u001b[0m\u001b[0;34m:\u001b[0m\u001b[0;34m\u001b[0m\u001b[0m\n",
      "\u001b[0;31mKeyboardInterrupt\u001b[0m: "
     ]
    }
   ],
   "source": [
    "n_estimators = [500]\n",
    "learning_rates = [0.4, 0.6, 0.8, 1]\n",
    "max_features = ['sqrt',0.2, 0.4, 0.8]\n",
    "max_depth = [1, 3, 5]#, 12, 14, 16, 18, 20]\n",
    "best_loss = 100\n",
    "best_params = ''\n",
    "count = 50\n",
    "for ne in n_estimators:\n",
    "    for lr in learning_rates:\n",
    "        for md in max_depth:\n",
    "            for mf in max_features:\n",
    "                print count\n",
    "                count += 1\n",
    "                params = 'n_estimator: ' + str(ne) + '; learning_rate: ' + str(lr) + '; max_features: ' + str(mf) + '; max_depth: ' + str(md)\n",
    "                print params\n",
    "    #             model = RandomForestClassifier(n_estimators=500, max_features=mf, max_depth=md, min_samples_split=mss, random_state=0)\n",
    "    #             model = model.fit(x_train_best, y_train)\n",
    "    #             predicted_train = pd.DataFrame(model.predict_proba(x_train_best))\n",
    "    #             predicted_train.columns = ['high', 'low', 'medium']\n",
    "    #             log_loss_train = log_loss(y_train, predicted_train.as_matrix())\n",
    "    #             print 'Train loss:', log_loss_train\n",
    "    #             predicted_val = pd.DataFrame(model.predict_proba(x_val_best))\n",
    "    #             predicted_val.columns = ['high', 'low', 'medium']\n",
    "    #             log_loss_val = log_loss(y_val, predicted_val.as_matrix())\n",
    "    #             print 'Val loss:', log_loss_val\n",
    "    #             if log_loss_val < best_loss:\n",
    "    #                 best_loss = log_loss_val\n",
    "    #                 best_params = params\n",
    "                cv_loss = get_cv_loss(ne, lr, md, mf)\n",
    "                if cv_loss < best_loss:\n",
    "                    best_loss = cv_loss\n",
    "                    best_params = params   \n",
    "\n",
    "print 'best_loss:', best_loss\n",
    "print 'best_params:', best_params\n",
    "# best_loss: 0.638016960424\n",
    "# best_params: max_features: 0.3; max_depth: 18; min_samples_split: 20"
   ]
  },
  {
   "cell_type": "markdown",
   "metadata": {
    "collapsed": true
   },
   "source": [
    "\n",
    "\n",
    "## Competition Test Set"
   ]
  },
  {
   "cell_type": "code",
   "execution_count": 76,
   "metadata": {
    "collapsed": true
   },
   "outputs": [],
   "source": [
    "test_df = pd.read_json('test_feats_w_ids.json')"
   ]
  },
  {
   "cell_type": "code",
   "execution_count": 77,
   "metadata": {
    "collapsed": true
   },
   "outputs": [],
   "source": [
    "le4 = LabelEncoder()\n",
    "le4.fit(test_df['manager_id'])\n",
    "test_df['manager_id'] = le4.transform(test_df['manager_id']) \n",
    "\n",
    "le5 = LabelEncoder()\n",
    "le5.fit(test_df['building_id'])\n",
    "test_df['building_id'] = le5.transform(test_df['building_id']) \n",
    "\n",
    "le6 = LabelEncoder()\n",
    "le6.fit(test_df['display_address'])\n",
    "test_df['display_address'] = le6.transform(test_df['display_address']) "
   ]
  },
  {
   "cell_type": "code",
   "execution_count": 78,
   "metadata": {
    "collapsed": true
   },
   "outputs": [],
   "source": [
    "cat_feats = cPickle.load(open('cat_feats.p', 'rb'))\n",
    "\n",
    "for col in cat_feats+['manager_id', 'building_id']:\n",
    "    test_df[col] = test_df[col].astype('category')"
   ]
  },
  {
   "cell_type": "code",
   "execution_count": 79,
   "metadata": {
    "collapsed": false
   },
   "outputs": [
    {
     "data": {
      "text/plain": [
       "(74659, 84)"
      ]
     },
     "execution_count": 79,
     "metadata": {},
     "output_type": "execute_result"
    }
   ],
   "source": [
    "x_test = test_df[x_train_best.columns]\n",
    "x_test.shape"
   ]
  },
  {
   "cell_type": "code",
   "execution_count": 80,
   "metadata": {
    "collapsed": false
   },
   "outputs": [
    {
     "data": {
      "text/html": [
       "<div>\n",
       "<table border=\"1\" class=\"dataframe\">\n",
       "  <thead>\n",
       "    <tr style=\"text-align: right;\">\n",
       "      <th></th>\n",
       "      <th>actual apt. photos</th>\n",
       "      <th>all utilities included</th>\n",
       "      <th>attended lobby</th>\n",
       "      <th>balcony</th>\n",
       "      <th>bathrooms</th>\n",
       "      <th>bedrooms</th>\n",
       "      <th>bike room</th>\n",
       "      <th>brownstone</th>\n",
       "      <th>building_id</th>\n",
       "      <th>business center</th>\n",
       "      <th>cable/satellite tv</th>\n",
       "      <th>central a/c</th>\n",
       "      <th>childrens playroom</th>\n",
       "      <th>community recreation facilities</th>\n",
       "      <th>dining room</th>\n",
       "      <th>dishwasher</th>\n",
       "      <th>display_address</th>\n",
       "      <th>doorman</th>\n",
       "      <th>duplex</th>\n",
       "      <th>elevator</th>\n",
       "      <th>exclusive</th>\n",
       "      <th>exposed brick</th>\n",
       "      <th>fireplace</th>\n",
       "      <th>fitness center</th>\n",
       "      <th>flex-2</th>\n",
       "      <th>furnished</th>\n",
       "      <th>garage</th>\n",
       "      <th>garden/patio</th>\n",
       "      <th>granite kitchen</th>\n",
       "      <th>green building</th>\n",
       "      <th>guarantors accepted</th>\n",
       "      <th>hardwood floors</th>\n",
       "      <th>high ceilings</th>\n",
       "      <th>high speed internet</th>\n",
       "      <th>highrise</th>\n",
       "      <th>latitude</th>\n",
       "      <th>laundry in building</th>\n",
       "      <th>light</th>\n",
       "      <th>live in super</th>\n",
       "      <th>live/work</th>\n",
       "      <th>loft</th>\n",
       "      <th>longitude</th>\n",
       "      <th>lowrise</th>\n",
       "      <th>manager_id</th>\n",
       "      <th>marble bath</th>\n",
       "      <th>microwave</th>\n",
       "      <th>midrise</th>\n",
       "      <th>multi-level</th>\n",
       "      <th>new construction</th>\n",
       "      <th>no fee</th>\n",
       "      <th>no pets</th>\n",
       "      <th>num_desc</th>\n",
       "      <th>num_feats</th>\n",
       "      <th>num_photos</th>\n",
       "      <th>outdoor space</th>\n",
       "      <th>package room</th>\n",
       "      <th>parking space</th>\n",
       "      <th>pet friendly</th>\n",
       "      <th>pets on approval</th>\n",
       "      <th>post-war</th>\n",
       "      <th>pre-war</th>\n",
       "      <th>price</th>\n",
       "      <th>private outdoor space</th>\n",
       "      <th>reduced fee</th>\n",
       "      <th>renovated</th>\n",
       "      <th>residents lounge</th>\n",
       "      <th>roof deck</th>\n",
       "      <th>sauna</th>\n",
       "      <th>shares ok</th>\n",
       "      <th>short term allowed</th>\n",
       "      <th>simplex</th>\n",
       "      <th>skylight</th>\n",
       "      <th>stainless steel appliances</th>\n",
       "      <th>storage</th>\n",
       "      <th>sublet</th>\n",
       "      <th>subway</th>\n",
       "      <th>swimming pool</th>\n",
       "      <th>terrace</th>\n",
       "      <th>valet</th>\n",
       "      <th>video intercom</th>\n",
       "      <th>view</th>\n",
       "      <th>virtual doorman</th>\n",
       "      <th>walk in closet(s)</th>\n",
       "      <th>wheelchair access</th>\n",
       "    </tr>\n",
       "  </thead>\n",
       "  <tbody>\n",
       "    <tr>\n",
       "      <th>0</th>\n",
       "      <td>0</td>\n",
       "      <td>0</td>\n",
       "      <td>0</td>\n",
       "      <td>0</td>\n",
       "      <td>1.0</td>\n",
       "      <td>1</td>\n",
       "      <td>0</td>\n",
       "      <td>0</td>\n",
       "      <td>4412</td>\n",
       "      <td>0</td>\n",
       "      <td>0</td>\n",
       "      <td>0</td>\n",
       "      <td>0</td>\n",
       "      <td>0</td>\n",
       "      <td>0</td>\n",
       "      <td>1</td>\n",
       "      <td>9506</td>\n",
       "      <td>0</td>\n",
       "      <td>0</td>\n",
       "      <td>1</td>\n",
       "      <td>0</td>\n",
       "      <td>0</td>\n",
       "      <td>0</td>\n",
       "      <td>0</td>\n",
       "      <td>0</td>\n",
       "      <td>0</td>\n",
       "      <td>0</td>\n",
       "      <td>0</td>\n",
       "      <td>0</td>\n",
       "      <td>0</td>\n",
       "      <td>0</td>\n",
       "      <td>1</td>\n",
       "      <td>0</td>\n",
       "      <td>0</td>\n",
       "      <td>0</td>\n",
       "      <td>40.7185</td>\n",
       "      <td>1</td>\n",
       "      <td>0</td>\n",
       "      <td>0</td>\n",
       "      <td>0</td>\n",
       "      <td>0</td>\n",
       "      <td>-73.9865</td>\n",
       "      <td>0</td>\n",
       "      <td>2694</td>\n",
       "      <td>0</td>\n",
       "      <td>0</td>\n",
       "      <td>0</td>\n",
       "      <td>0</td>\n",
       "      <td>0</td>\n",
       "      <td>0</td>\n",
       "      <td>0</td>\n",
       "      <td>587</td>\n",
       "      <td>6</td>\n",
       "      <td>8</td>\n",
       "      <td>1</td>\n",
       "      <td>0</td>\n",
       "      <td>0</td>\n",
       "      <td>0</td>\n",
       "      <td>0</td>\n",
       "      <td>0</td>\n",
       "      <td>0</td>\n",
       "      <td>2950</td>\n",
       "      <td>0</td>\n",
       "      <td>0</td>\n",
       "      <td>1</td>\n",
       "      <td>0</td>\n",
       "      <td>0</td>\n",
       "      <td>0</td>\n",
       "      <td>0</td>\n",
       "      <td>0</td>\n",
       "      <td>0</td>\n",
       "      <td>0</td>\n",
       "      <td>0</td>\n",
       "      <td>1</td>\n",
       "      <td>0</td>\n",
       "      <td>1</td>\n",
       "      <td>0</td>\n",
       "      <td>1</td>\n",
       "      <td>0</td>\n",
       "      <td>0</td>\n",
       "      <td>0</td>\n",
       "      <td>0</td>\n",
       "      <td>0</td>\n",
       "      <td>0</td>\n",
       "    </tr>\n",
       "    <tr>\n",
       "      <th>1</th>\n",
       "      <td>0</td>\n",
       "      <td>0</td>\n",
       "      <td>0</td>\n",
       "      <td>0</td>\n",
       "      <td>1.0</td>\n",
       "      <td>2</td>\n",
       "      <td>0</td>\n",
       "      <td>0</td>\n",
       "      <td>0</td>\n",
       "      <td>0</td>\n",
       "      <td>0</td>\n",
       "      <td>0</td>\n",
       "      <td>0</td>\n",
       "      <td>0</td>\n",
       "      <td>0</td>\n",
       "      <td>0</td>\n",
       "      <td>9589</td>\n",
       "      <td>0</td>\n",
       "      <td>0</td>\n",
       "      <td>0</td>\n",
       "      <td>0</td>\n",
       "      <td>0</td>\n",
       "      <td>0</td>\n",
       "      <td>0</td>\n",
       "      <td>0</td>\n",
       "      <td>0</td>\n",
       "      <td>0</td>\n",
       "      <td>0</td>\n",
       "      <td>0</td>\n",
       "      <td>0</td>\n",
       "      <td>0</td>\n",
       "      <td>1</td>\n",
       "      <td>0</td>\n",
       "      <td>0</td>\n",
       "      <td>0</td>\n",
       "      <td>40.7278</td>\n",
       "      <td>0</td>\n",
       "      <td>0</td>\n",
       "      <td>0</td>\n",
       "      <td>0</td>\n",
       "      <td>0</td>\n",
       "      <td>-74.0000</td>\n",
       "      <td>0</td>\n",
       "      <td>3145</td>\n",
       "      <td>1</td>\n",
       "      <td>0</td>\n",
       "      <td>0</td>\n",
       "      <td>0</td>\n",
       "      <td>0</td>\n",
       "      <td>0</td>\n",
       "      <td>0</td>\n",
       "      <td>245</td>\n",
       "      <td>3</td>\n",
       "      <td>3</td>\n",
       "      <td>0</td>\n",
       "      <td>0</td>\n",
       "      <td>0</td>\n",
       "      <td>1</td>\n",
       "      <td>0</td>\n",
       "      <td>0</td>\n",
       "      <td>1</td>\n",
       "      <td>2850</td>\n",
       "      <td>0</td>\n",
       "      <td>0</td>\n",
       "      <td>1</td>\n",
       "      <td>0</td>\n",
       "      <td>0</td>\n",
       "      <td>0</td>\n",
       "      <td>0</td>\n",
       "      <td>0</td>\n",
       "      <td>0</td>\n",
       "      <td>0</td>\n",
       "      <td>1</td>\n",
       "      <td>0</td>\n",
       "      <td>0</td>\n",
       "      <td>0</td>\n",
       "      <td>0</td>\n",
       "      <td>0</td>\n",
       "      <td>0</td>\n",
       "      <td>0</td>\n",
       "      <td>1</td>\n",
       "      <td>0</td>\n",
       "      <td>0</td>\n",
       "      <td>0</td>\n",
       "    </tr>\n",
       "  </tbody>\n",
       "</table>\n",
       "</div>"
      ],
      "text/plain": [
       "  actual apt. photos all utilities included attended lobby balcony  bathrooms  \\\n",
       "0                  0                      0              0       0        1.0   \n",
       "1                  0                      0              0       0        1.0   \n",
       "\n",
       "   bedrooms bike room brownstone building_id business center  \\\n",
       "0         1         0          0        4412               0   \n",
       "1         2         0          0           0               0   \n",
       "\n",
       "  cable/satellite tv central a/c childrens playroom  \\\n",
       "0                  0           0                  0   \n",
       "1                  0           0                  0   \n",
       "\n",
       "  community recreation facilities dining room dishwasher  display_address  \\\n",
       "0                               0           0          1             9506   \n",
       "1                               0           0          0             9589   \n",
       "\n",
       "  doorman duplex elevator exclusive exposed brick fireplace fitness center  \\\n",
       "0       0      0        1         0             0         0              0   \n",
       "1       0      0        0         0             0         0              0   \n",
       "\n",
       "  flex-2 furnished garage garden/patio granite kitchen green building  \\\n",
       "0      0         0      0            0               0              0   \n",
       "1      0         0      0            0               0              0   \n",
       "\n",
       "  guarantors accepted hardwood floors high ceilings high speed internet  \\\n",
       "0                   0               1             0                   0   \n",
       "1                   0               1             0                   0   \n",
       "\n",
       "  highrise  latitude laundry in building light live in super live/work loft  \\\n",
       "0        0   40.7185                   1     0             0         0    0   \n",
       "1        0   40.7278                   0     0             0         0    0   \n",
       "\n",
       "   longitude lowrise manager_id marble bath microwave midrise multi-level  \\\n",
       "0   -73.9865       0       2694           0         0       0           0   \n",
       "1   -74.0000       0       3145           1         0       0           0   \n",
       "\n",
       "  new construction no fee no pets  num_desc  num_feats  num_photos  \\\n",
       "0                0      0       0       587          6           8   \n",
       "1                0      0       0       245          3           3   \n",
       "\n",
       "  outdoor space package room parking space pet friendly pets on approval  \\\n",
       "0             1            0             0            0                0   \n",
       "1             0            0             0            1                0   \n",
       "\n",
       "  post-war pre-war  price private outdoor space reduced fee renovated  \\\n",
       "0        0       0   2950                     0           0         1   \n",
       "1        0       1   2850                     0           0         1   \n",
       "\n",
       "  residents lounge roof deck sauna shares ok short term allowed simplex  \\\n",
       "0                0         0     0         0                  0       0   \n",
       "1                0         0     0         0                  0       0   \n",
       "\n",
       "  skylight stainless steel appliances storage sublet subway swimming pool  \\\n",
       "0        0                          0       1      0      1             0   \n",
       "1        0                          1       0      0      0             0   \n",
       "\n",
       "  terrace valet video intercom view virtual doorman walk in closet(s)  \\\n",
       "0       1     0              0    0               0                 0   \n",
       "1       0     0              0    1               0                 0   \n",
       "\n",
       "  wheelchair access  \n",
       "0                 0  \n",
       "1                 0  "
      ]
     },
     "execution_count": 80,
     "metadata": {},
     "output_type": "execute_result"
    }
   ],
   "source": [
    "x_test.head(2)"
   ]
  },
  {
   "cell_type": "code",
   "execution_count": 81,
   "metadata": {
    "collapsed": false
   },
   "outputs": [
    {
     "data": {
      "text/html": [
       "<div>\n",
       "<table border=\"1\" class=\"dataframe\">\n",
       "  <thead>\n",
       "    <tr style=\"text-align: right;\">\n",
       "      <th></th>\n",
       "      <th>high</th>\n",
       "      <th>low</th>\n",
       "      <th>medium</th>\n",
       "    </tr>\n",
       "  </thead>\n",
       "  <tbody>\n",
       "    <tr>\n",
       "      <th>0</th>\n",
       "      <td>0.037066</td>\n",
       "      <td>0.286850</td>\n",
       "      <td>0.676083</td>\n",
       "    </tr>\n",
       "    <tr>\n",
       "      <th>1</th>\n",
       "      <td>0.030283</td>\n",
       "      <td>0.084914</td>\n",
       "      <td>0.884803</td>\n",
       "    </tr>\n",
       "    <tr>\n",
       "      <th>2</th>\n",
       "      <td>0.009424</td>\n",
       "      <td>0.906746</td>\n",
       "      <td>0.083830</td>\n",
       "    </tr>\n",
       "    <tr>\n",
       "      <th>3</th>\n",
       "      <td>0.042398</td>\n",
       "      <td>0.090880</td>\n",
       "      <td>0.866722</td>\n",
       "    </tr>\n",
       "    <tr>\n",
       "      <th>4</th>\n",
       "      <td>0.007919</td>\n",
       "      <td>0.895943</td>\n",
       "      <td>0.096138</td>\n",
       "    </tr>\n",
       "  </tbody>\n",
       "</table>\n",
       "</div>"
      ],
      "text/plain": [
       "       high       low    medium\n",
       "0  0.037066  0.286850  0.676083\n",
       "1  0.030283  0.084914  0.884803\n",
       "2  0.009424  0.906746  0.083830\n",
       "3  0.042398  0.090880  0.866722\n",
       "4  0.007919  0.895943  0.096138"
      ]
     },
     "execution_count": 81,
     "metadata": {},
     "output_type": "execute_result"
    }
   ],
   "source": [
    "pred_x = pd.DataFrame(model.predict_proba(x_test))\n",
    "pred_x.columns = ['high', 'low', 'medium']\n",
    "pred_x.head()"
   ]
  },
  {
   "cell_type": "code",
   "execution_count": 82,
   "metadata": {
    "collapsed": false
   },
   "outputs": [],
   "source": [
    "subm = pd.merge(test_df[['listing_id']].reset_index(), pred_x.reset_index(), left_index=True, right_index=True)"
   ]
  },
  {
   "cell_type": "code",
   "execution_count": 83,
   "metadata": {
    "collapsed": true
   },
   "outputs": [],
   "source": [
    "subm = subm[['listing_id', 'high', 'medium', 'low']]"
   ]
  },
  {
   "cell_type": "code",
   "execution_count": 84,
   "metadata": {
    "collapsed": false
   },
   "outputs": [
    {
     "data": {
      "text/plain": [
       "(74659, 4)"
      ]
     },
     "execution_count": 84,
     "metadata": {},
     "output_type": "execute_result"
    }
   ],
   "source": [
    "subm.shape\n",
    "# (74659, 4)"
   ]
  },
  {
   "cell_type": "code",
   "execution_count": 85,
   "metadata": {
    "collapsed": true
   },
   "outputs": [],
   "source": [
    "subm.to_csv('Submission_GB_w_ids.csv', index=None)"
   ]
  },
  {
   "cell_type": "code",
   "execution_count": 86,
   "metadata": {
    "collapsed": false
   },
   "outputs": [
    {
     "data": {
      "text/plain": [
       "GradientBoostingClassifier(criterion='friedman_mse', init=None,\n",
       "              learning_rate=0.1, loss='deviance', max_depth=4,\n",
       "              max_features=0.3, max_leaf_nodes=None,\n",
       "              min_impurity_split=1e-07, min_samples_leaf=1,\n",
       "              min_samples_split=2, min_weight_fraction_leaf=0.0,\n",
       "              n_estimators=500, presort='auto', random_state=0,\n",
       "              subsample=1.0, verbose=0, warm_start=False)"
      ]
     },
     "execution_count": 86,
     "metadata": {},
     "output_type": "execute_result"
    }
   ],
   "source": [
    "model"
   ]
  },
  {
   "cell_type": "code",
   "execution_count": null,
   "metadata": {
    "collapsed": true
   },
   "outputs": [],
   "source": []
  }
 ],
 "metadata": {
  "anaconda-cloud": {},
  "kernelspec": {
   "display_name": "Python 2",
   "language": "python",
   "name": "python2"
  },
  "language_info": {
   "codemirror_mode": {
    "name": "ipython",
    "version": 2
   },
   "file_extension": ".py",
   "mimetype": "text/x-python",
   "name": "python",
   "nbconvert_exporter": "python",
   "pygments_lexer": "ipython2",
   "version": "2.7.13"
  }
 },
 "nbformat": 4,
 "nbformat_minor": 0
}
