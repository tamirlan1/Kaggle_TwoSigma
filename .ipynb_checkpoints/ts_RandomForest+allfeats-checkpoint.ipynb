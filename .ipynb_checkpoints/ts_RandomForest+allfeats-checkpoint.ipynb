{
 "cells": [
  {
   "cell_type": "markdown",
   "metadata": {},
   "source": [
    "# Random Forest  + 'features'"
   ]
  },
  {
   "cell_type": "markdown",
   "metadata": {},
   "source": [
    "## Train set"
   ]
  },
  {
   "cell_type": "code",
   "execution_count": 72,
   "metadata": {
    "collapsed": false
   },
   "outputs": [],
   "source": [
    "import pandas as pd\n",
    "import numpy as np\n",
    "from sklearn.metrics import log_loss\n",
    "from sklearn.ensemble import RandomForestClassifier\n",
    "import cPickle\n",
    "import warnings\n",
    "warnings.filterwarnings(\"ignore\")\n",
    "from sklearn.grid_search import GridSearchCV\n",
    "from sklearn.grid_search import RandomizedSearchCV\n",
    "from sklearn.cross_validation import train_test_split\n",
    "from sklearn.feature_selection import chi2\n",
    "from sklearn.cross_validation import KFold\n",
    "\n",
    "pd.options.display.max_columns = 160"
   ]
  },
  {
   "cell_type": "code",
   "execution_count": 3,
   "metadata": {
    "collapsed": false
   },
   "outputs": [],
   "source": [
    "# all_df = pd.read_json('train.json')\n",
    "all_df = pd.read_csv('train_feats_max.csv')"
   ]
  },
  {
   "cell_type": "code",
   "execution_count": 4,
   "metadata": {
    "collapsed": false
   },
   "outputs": [
    {
     "data": {
      "text/plain": [
       "(49352, 83)"
      ]
     },
     "execution_count": 4,
     "metadata": {},
     "output_type": "execute_result"
    }
   ],
   "source": [
    "all_df.shape"
   ]
  },
  {
   "cell_type": "code",
   "execution_count": 5,
   "metadata": {
    "collapsed": false
   },
   "outputs": [],
   "source": [
    "# all_df.head(2)"
   ]
  },
  {
   "cell_type": "code",
   "execution_count": 6,
   "metadata": {
    "collapsed": false
   },
   "outputs": [],
   "source": [
    "x_train, x_val, y_train, y_val = train_test_split(all_df.drop(['interest_level'], 1),all_df[['interest_level']], test_size=0.2, random_state=42)\n"
   ]
  },
  {
   "cell_type": "code",
   "execution_count": 7,
   "metadata": {
    "collapsed": false
   },
   "outputs": [],
   "source": [
    "cat_feats = cPickle.load(open('cat_feats.p', 'rb'))\n",
    "\n",
    "for col in ['interest_level']:\n",
    "    y_train[col] = y_train[col].astype('category')\n",
    "    y_val[col] = y_val[col].astype('category')\n",
    "    \n",
    "for col in cat_feats:\n",
    "    x_train[col] = x_train[col].astype('category')\n",
    "    x_val[col] = x_val[col].astype('category')"
   ]
  },
  {
   "cell_type": "code",
   "execution_count": 8,
   "metadata": {
    "collapsed": false
   },
   "outputs": [],
   "source": [
    "drop_list = [ u'features', u'listing_id', 'index']\n",
    "x_train_small = x_train.drop(drop_list,1)\n",
    "\n",
    "x_val_small = x_val.drop(drop_list,1)"
   ]
  },
  {
   "cell_type": "code",
   "execution_count": 12,
   "metadata": {
    "collapsed": false
   },
   "outputs": [],
   "source": [
    "x_train_small_nolon = x_train_small.drop(['longitude'], axis=1)\n",
    "scores, pvalues = chi2(x_train_small_nolon, y_train)"
   ]
  },
  {
   "cell_type": "code",
   "execution_count": 22,
   "metadata": {
    "collapsed": false
   },
   "outputs": [],
   "source": [
    "low_pvalues_cols = x_train_small_nolon.columns[(pvalues < 0.05)]"
   ]
  },
  {
   "cell_type": "code",
   "execution_count": 25,
   "metadata": {
    "collapsed": false
   },
   "outputs": [
    {
     "data": {
      "text/plain": [
       "Index([u'bathrooms', u'bedrooms', u'price', u'num_photos', u'elevator',\n",
       "       u'hardwood floors', u'doorman', u'dishwasher', u'laundry in building',\n",
       "       u'no fee', u'fitness center', u'pre-war', u'roof deck',\n",
       "       u'outdoor space', u'dining room', u'high speed internet', u'balcony',\n",
       "       u'swimming pool', u'new construction', u'terrace', u'exclusive',\n",
       "       u'loft', u'garden/patio', u'fireplace', u'simplex', u'lowrise',\n",
       "       u'garage', u'reduced fee', u'furnished', u'high ceilings',\n",
       "       u'private outdoor space', u'parking space', u'live in super',\n",
       "       u'renovated', u'storage', u'stainless steel appliances', u'light',\n",
       "       u'granite kitchen', u'bike room', u'marble bath', u'pets on approval',\n",
       "       u'walk in closet(s)', u'valet', u'subway', u'residents lounge',\n",
       "       u'highrise', u'short term allowed', u'childrens playroom', u'no pets',\n",
       "       u'duplex', u'actual apt. photos', u'view', u'sauna', u'microwave',\n",
       "       u'shares ok', u'brownstone', u'pet friendly', u'cable/satellite tv'],\n",
       "      dtype='object')"
      ]
     },
     "execution_count": 25,
     "metadata": {},
     "output_type": "execute_result"
    }
   ],
   "source": [
    "low_pvalues_cols"
   ]
  },
  {
   "cell_type": "code",
   "execution_count": 26,
   "metadata": {
    "collapsed": false
   },
   "outputs": [
    {
     "data": {
      "text/plain": [
       "(39481, 58)"
      ]
     },
     "execution_count": 26,
     "metadata": {},
     "output_type": "execute_result"
    }
   ],
   "source": [
    "# low_pvalues_cols = cPickle.load(open('low_pvalues_cols.p', 'rb'))\n",
    "x_train_best = x_train_small[low_pvalues_cols]\n",
    "x_val_best = x_val_small[low_pvalues_cols]\n",
    "x_train_best.shape\n",
    "# x_train_best.head(2)"
   ]
  },
  {
   "cell_type": "code",
   "execution_count": 9,
   "metadata": {
    "collapsed": true
   },
   "outputs": [],
   "source": [
    "# C_range = np.logspace(-2, 10, 13)\n",
    "# gamma_range = np.logspace(-9, 3, 13)\n",
    "# param_grid = dict(gamma=gamma_range, C=C_range)\n",
    "# cv = StratifiedShuffleSplit(n_splits=5, test_size=0.2, random_state=42)\n",
    "# grid = GridSearchCV(SVC(), param_grid=param_grid, cv=cv)\n",
    "# grid.fit(x_train_best[:10], y_train[:10])\n",
    "\n",
    "# print(\"The best parameters are %s with a score of %0.2f\"\n",
    "#       % (grid.best_params_, grid.best_score_))\n",
    "\n",
    "# # Now we need to fit a classifier for all parameters in the 2d version\n",
    "# # (we use a smaller set of parameters here because it takes a while to train)\n",
    "\n",
    "# C_2d_range = [1e-2, 1, 1e2]\n",
    "# gamma_2d_range = [1e-1, 1, 1e1]\n",
    "# classifiers = []\n",
    "# for C in C_2d_range:\n",
    "#     for gamma in gamma_2d_range:\n",
    "#         clf = SVC(C=C, gamma=gamma)\n",
    "#         clf.fit(X_2d, y_2d)\n",
    "#         classifiers.append((C, gamma, clf))"
   ]
  },
  {
   "cell_type": "code",
   "execution_count": 27,
   "metadata": {
    "collapsed": false
   },
   "outputs": [],
   "source": [
    "# model = RandomForestClassifier()#n_estimators=10, random_state=0)\n",
    "# parameters = {'max_features':[0.3, 0.5], 'max_depth':[10, 20], 'min_samples_split':[5, 10]}\n",
    "# clf = GridSearchCV(model, parameters, scoring='log_loss', cv=2)\n",
    "# # alphas = np.array([0.3,0.5])\n",
    "# # grid = GridSearchCV(estimator=model, param_grid=dict(max_features=alphas))\n"
   ]
  },
  {
   "cell_type": "code",
   "execution_count": 28,
   "metadata": {
    "collapsed": false
   },
   "outputs": [],
   "source": [
    "# grid.fit(x_train_best, y_train)"
   ]
  },
  {
   "cell_type": "code",
   "execution_count": null,
   "metadata": {
    "collapsed": false
   },
   "outputs": [],
   "source": [
    "model = RandomForestClassifier(n_estimators=1000, max_features=0.3, max_depth=18, min_samples_split=20, random_state=0)\n",
    "model = model.fit(x_train_best, y_train)"
   ]
  },
  {
   "cell_type": "code",
   "execution_count": null,
   "metadata": {
    "collapsed": false
   },
   "outputs": [],
   "source": [
    "predicted_train = pd.DataFrame(model.predict_proba(x_train_best))\n",
    "# predicted = model.predict_proba(x)\n",
    "predicted_train.columns = ['high', 'low', 'medium']\n",
    "predicted_train.head()\n",
    "# predicted"
   ]
  },
  {
   "cell_type": "code",
   "execution_count": null,
   "metadata": {
    "collapsed": false
   },
   "outputs": [],
   "source": [
    "log_loss_train = log_loss(y_train, predicted_train.as_matrix())\n",
    "log_loss_train"
   ]
  },
  {
   "cell_type": "code",
   "execution_count": null,
   "metadata": {
    "collapsed": false
   },
   "outputs": [],
   "source": [
    "predicted_val = pd.DataFrame(model.predict_proba(x_val_best))\n",
    "# predicted = model.predict_proba(x)\n",
    "predicted_val.columns = ['high', 'low', 'medium']\n",
    "predicted_val.head()\n",
    "# predicted"
   ]
  },
  {
   "cell_type": "code",
   "execution_count": null,
   "metadata": {
    "collapsed": false
   },
   "outputs": [],
   "source": [
    "log_loss_val = log_loss(y_val, predicted_val.as_matrix())\n",
    "log_loss_val\n",
    "# 0.68867588674963398, 0.68 ok (n_estimators=20, max_features=0.5, max_depth=5, min_samples_split=2, random_state=0)\n",
    "# 0.65246470021282676, 0.60 ok (n_estimators=20, max_features=0.5, max_depth=5, min_samples_split=2, random_state=0)\n",
    "# 0.65992553205901083, 0.47953531208509781 OF (n_estimators=100, max_features='sqrt', max_depth=20, min_samples_split=2, random_state=0) \n",
    "# 0.64955018062340741, 0.5490683949104378 OF (n_estimators=100, max_features='sqrt', max_depth=20, min_samples_split=10, random_state=0)\n",
    "\n",
    "# new\n",
    "# best_loss: 0.627188125099\n",
    "# max_features: 0.3; max_depth: 20; min_samples_split: 20\n"
   ]
  },
  {
   "cell_type": "code",
   "execution_count": 34,
   "metadata": {
    "collapsed": false
   },
   "outputs": [
    {
     "name": "stdout",
     "output_type": "stream",
     "text": [
      "1\n",
      "max_features: sqrt; max_depth: 10; min_samples_split: 2\n",
      "Train loss: 0.655596497942\n",
      "Val loss: 0.680377612458\n",
      "2\n",
      "max_features: sqrt; max_depth: 10; min_samples_split: 5\n",
      "Train loss: 0.65707840264\n",
      "Val loss: 0.679338672228\n",
      "3\n",
      "max_features: sqrt; max_depth: 10; min_samples_split: 10\n",
      "Train loss: 0.659346285617\n",
      "Val loss: 0.679612325063\n",
      "4\n",
      "max_features: sqrt; max_depth: 10; min_samples_split: 20\n",
      "Train loss: 0.663188283809\n",
      "Val loss: 0.680951552617\n",
      "5\n",
      "max_features: sqrt; max_depth: 12; min_samples_split: 2\n",
      "Train loss: 0.624030426635\n",
      "Val loss: 0.66585115168\n",
      "6\n",
      "max_features: sqrt; max_depth: 12; min_samples_split: 5\n",
      "Train loss: 0.630404052454\n",
      "Val loss: 0.666406770945\n",
      "7\n",
      "max_features: sqrt; max_depth: 12; min_samples_split: 10\n",
      "Train loss: 0.635828589682\n",
      "Val loss: 0.666868276381\n",
      "8\n",
      "max_features: sqrt; max_depth: 12; min_samples_split: 20\n",
      "Train loss: 0.641720442259\n",
      "Val loss: 0.667970137877\n",
      "9\n",
      "max_features: sqrt; max_depth: 14; min_samples_split: 2\n",
      "Train loss: 0.588656494581\n",
      "Val loss: 0.65534411793\n",
      "10\n",
      "max_features: sqrt; max_depth: 14; min_samples_split: 5\n",
      "Train loss: 0.601192686326\n",
      "Val loss: 0.655560222558\n",
      "11\n",
      "max_features: sqrt; max_depth: 14; min_samples_split: 10\n",
      "Train loss: 0.61082617823\n",
      "Val loss: 0.656079174186\n",
      "12\n",
      "max_features: sqrt; max_depth: 14; min_samples_split: 20\n",
      "Train loss: 0.618524570543\n",
      "Val loss: 0.656155023426\n",
      "13\n",
      "max_features: sqrt; max_depth: 16; min_samples_split: 2\n",
      "Train loss: 0.547605112157\n",
      "Val loss: 0.646757266811\n",
      "14\n",
      "max_features: sqrt; max_depth: 16; min_samples_split: 5\n",
      "Train loss: 0.568694535826\n",
      "Val loss: 0.646953997641\n",
      "15\n",
      "max_features: sqrt; max_depth: 16; min_samples_split: 10\n",
      "Train loss: 0.584474533056\n",
      "Val loss: 0.647276972813\n",
      "16\n",
      "max_features: sqrt; max_depth: 16; min_samples_split: 20\n",
      "Train loss: 0.597413979925\n",
      "Val loss: 0.648391230313\n",
      "17\n",
      "max_features: sqrt; max_depth: 18; min_samples_split: 2\n",
      "Train loss: 0.500107837238\n",
      "Val loss: 0.640788288066\n",
      "18\n",
      "max_features: sqrt; max_depth: 18; min_samples_split: 5\n",
      "Train loss: 0.533701321981\n",
      "Val loss: 0.64029485888\n",
      "19\n",
      "max_features: sqrt; max_depth: 18; min_samples_split: 10\n",
      "Train loss: 0.555269953752\n",
      "Val loss: 0.640357359748\n",
      "20\n",
      "max_features: sqrt; max_depth: 18; min_samples_split: 20\n",
      "Train loss: 0.576834246426\n",
      "Val loss: 0.642091724783\n",
      "21\n",
      "max_features: sqrt; max_depth: 20; min_samples_split: 2\n",
      "Train loss: 0.452912400769\n",
      "Val loss: 0.638721664928\n",
      "22\n",
      "max_features: sqrt; max_depth: 20; min_samples_split: 5\n",
      "Train loss: 0.495475543744\n",
      "Val loss: 0.635462258846\n",
      "23\n",
      "max_features: sqrt; max_depth: 20; min_samples_split: 10\n",
      "Train loss: 0.528408816133\n",
      "Val loss: 0.635513994885\n",
      "24\n",
      "max_features: sqrt; max_depth: 20; min_samples_split: 20\n",
      "Train loss: 0.55602422444\n",
      "Val loss: 0.636867618716\n",
      "25\n",
      "max_features: 0.2; max_depth: 10; min_samples_split: 2\n",
      "Train loss: 0.631641152379\n",
      "Val loss: 0.661001594615\n",
      "26\n",
      "max_features: 0.2; max_depth: 10; min_samples_split: 5\n",
      "Train loss: 0.635386744203\n",
      "Val loss: 0.661754668738\n",
      "27\n",
      "max_features: 0.2; max_depth: 10; min_samples_split: 10\n",
      "Train loss: 0.638265553961\n",
      "Val loss: 0.662066284627\n",
      "28\n",
      "max_features: 0.2; max_depth: 10; min_samples_split: 20\n",
      "Train loss: 0.639378145857\n",
      "Val loss: 0.660969237904\n",
      "29\n",
      "max_features: 0.2; max_depth: 12; min_samples_split: 2\n",
      "Train loss: 0.597782261863\n",
      "Val loss: 0.649282491701\n",
      "30\n",
      "max_features: 0.2; max_depth: 12; min_samples_split: 5\n",
      "Train loss: 0.604496806167\n",
      "Val loss: 0.649245120002\n",
      "31\n",
      "max_features: 0.2; max_depth: 12; min_samples_split: 10\n",
      "Train loss: 0.609916998458\n",
      "Val loss: 0.648930827984\n",
      "32\n",
      "max_features: 0.2; max_depth: 12; min_samples_split: 20\n",
      "Train loss: 0.615796325529\n",
      "Val loss: 0.649653124575\n",
      "33\n",
      "max_features: 0.2; max_depth: 14; min_samples_split: 2\n",
      "Train loss: 0.557103847933\n",
      "Val loss: 0.640039244538\n",
      "34\n",
      "max_features: 0.2; max_depth: 14; min_samples_split: 5\n",
      "Train loss: 0.569037071687\n",
      "Val loss: 0.640126153598\n",
      "35\n",
      "max_features: 0.2; max_depth: 14; min_samples_split: 10\n",
      "Train loss: 0.580122699638\n",
      "Val loss: 0.639836728483\n",
      "36\n",
      "max_features: 0.2; max_depth: 14; min_samples_split: 20\n",
      "Train loss: 0.591120789065\n",
      "Val loss: 0.640822262987\n",
      "37\n",
      "max_features: 0.2; max_depth: 16; min_samples_split: 2\n",
      "Train loss: 0.511214098606\n",
      "Val loss: 0.634441423284\n",
      "38\n",
      "max_features: 0.2; max_depth: 16; min_samples_split: 5\n",
      "Train loss: 0.531454333697\n",
      "Val loss: 0.633588244361\n",
      "39\n",
      "max_features: 0.2; max_depth: 16; min_samples_split: 10\n",
      "Train loss: 0.54900343667\n",
      "Val loss: 0.633770731698\n",
      "40\n",
      "max_features: 0.2; max_depth: 16; min_samples_split: 20\n",
      "Train loss: 0.566760471719\n",
      "Val loss: 0.634459927476\n",
      "41\n",
      "max_features: 0.2; max_depth: 18; min_samples_split: 2\n",
      "Train loss: 0.459328485977\n",
      "Val loss: 0.631881842607\n",
      "42\n",
      "max_features: 0.2; max_depth: 18; min_samples_split: 5\n",
      "Train loss: 0.492095371245\n",
      "Val loss: 0.629932521467\n",
      "43\n",
      "max_features: 0.2; max_depth: 18; min_samples_split: 10\n",
      "Train loss: 0.519031370806\n",
      "Val loss: 0.630082406031\n",
      "44\n",
      "max_features: 0.2; max_depth: 18; min_samples_split: 20\n",
      "Train loss: 0.54498968008\n",
      "Val loss: 0.631032849249\n",
      "45\n",
      "max_features: 0.2; max_depth: 20; min_samples_split: 2\n",
      "Train loss: 0.406807157172\n",
      "Val loss: 0.633785258789\n",
      "46\n",
      "max_features: 0.2; max_depth: 20; min_samples_split: 5\n",
      "Train loss: 0.452022843928\n",
      "Val loss: 0.62915432911\n",
      "47\n",
      "max_features: 0.2; max_depth: 20; min_samples_split: 10\n",
      "Train loss: 0.490763593824\n",
      "Val loss: 0.628323394213\n",
      "48\n",
      "max_features: 0.2; max_depth: 20; min_samples_split: 20\n",
      "Train loss: 0.525097818122\n",
      "Val loss: 0.628578936063\n",
      "49\n",
      "max_features: 0.3; max_depth: 10; min_samples_split: 2\n",
      "Train loss: 0.612838415546\n",
      "Val loss: 0.647777083402\n",
      "50\n",
      "max_features: 0.3; max_depth: 10; min_samples_split: 5\n",
      "Train loss: 0.615317066928\n",
      "Val loss: 0.647361498113\n",
      "51\n",
      "max_features: 0.3; max_depth: 10; min_samples_split: 10\n",
      "Train loss: 0.619246939084\n",
      "Val loss: 0.64802181402\n",
      "52\n",
      "max_features: 0.3; max_depth: 10; min_samples_split: 20\n",
      "Train loss: 0.621534540476\n",
      "Val loss: 0.647277702651\n",
      "53\n",
      "max_features: 0.3; max_depth: 12; min_samples_split: 2\n",
      "Train loss: 0.574544802661\n",
      "Val loss: 0.637939821481\n",
      "54\n",
      "max_features: 0.3; max_depth: 12; min_samples_split: 5\n",
      "Train loss: 0.580772937299\n",
      "Val loss: 0.637548848633\n",
      "55\n",
      "max_features: 0.3; max_depth: 12; min_samples_split: 10\n",
      "Train loss: 0.588025932475\n",
      "Val loss: 0.637822133386\n",
      "56\n",
      "max_features: 0.3; max_depth: 12; min_samples_split: 20\n",
      "Train loss: 0.595560158472\n",
      "Val loss: 0.638124079423\n",
      "57\n",
      "max_features: 0.3; max_depth: 14; min_samples_split: 2\n",
      "Train loss: 0.526358745905\n",
      "Val loss: 0.632050816541\n",
      "58\n",
      "max_features: 0.3; max_depth: 14; min_samples_split: 5\n",
      "Train loss: 0.539874997143\n",
      "Val loss: 0.631362929714\n",
      "59\n",
      "max_features: 0.3; max_depth: 14; min_samples_split: 10\n",
      "Train loss: 0.553506530172\n",
      "Val loss: 0.630909250199\n",
      "60\n",
      "max_features: 0.3; max_depth: 14; min_samples_split: 20\n",
      "Train loss: 0.568493610764\n",
      "Val loss: 0.631771780491\n",
      "61\n",
      "max_features: 0.3; max_depth: 16; min_samples_split: 2\n",
      "Train loss: 0.4732549335\n",
      "Val loss: 0.630237934613\n",
      "62\n",
      "max_features: 0.3; max_depth: 16; min_samples_split: 5\n",
      "Train loss: 0.496753170802\n",
      "Val loss: 0.628372726966\n",
      "63\n",
      "max_features: 0.3; max_depth: 16; min_samples_split: 10\n",
      "Train loss: 0.519360856702\n",
      "Val loss: 0.62825702818\n",
      "64\n",
      "max_features: 0.3; max_depth: 16; min_samples_split: 20\n",
      "Train loss: 0.541250573267\n",
      "Val loss: 0.628536350664\n",
      "65\n",
      "max_features: 0.3; max_depth: 18; min_samples_split: 2\n",
      "Train loss: 0.416885526664\n",
      "Val loss: 0.631968764263\n",
      "66\n",
      "max_features: 0.3; max_depth: 18; min_samples_split: 5\n",
      "Train loss: 0.453237541675\n",
      "Val loss: 0.629050938715\n",
      "67\n",
      "max_features: 0.3; max_depth: 18; min_samples_split: 10\n",
      "Train loss: 0.485797464771\n",
      "Val loss: 0.627197926579\n",
      "68\n",
      "max_features: 0.3; max_depth: 18; min_samples_split: 20\n",
      "Train loss: 0.517936508202\n",
      "Val loss: 0.627395222303\n",
      "69\n",
      "max_features: 0.3; max_depth: 20; min_samples_split: 2\n",
      "Train loss: 0.362488081392\n",
      "Val loss: 0.637786604023\n",
      "70\n",
      "max_features: 0.3; max_depth: 20; min_samples_split: 5\n",
      "Train loss: 0.413070587909\n",
      "Val loss: 0.630985686884\n",
      "71\n",
      "max_features: 0.3; max_depth: 20; min_samples_split: 10\n",
      "Train loss: 0.455625053201\n",
      "Val loss: 0.62815039296\n",
      "72\n",
      "max_features: 0.3; max_depth: 20; min_samples_split: 20\n",
      "Train loss: 0.497728680783\n",
      "Val loss: 0.627188125099\n",
      "73\n",
      "max_features: 0.4; max_depth: 10; min_samples_split: 2\n",
      "Train loss: 0.601408268194\n",
      "Val loss: 0.641103847169\n",
      "74\n",
      "max_features: 0.4; max_depth: 10; min_samples_split: 5\n",
      "Train loss: 0.604694729754\n",
      "Val loss: 0.641256379301\n",
      "75\n",
      "max_features: 0.4; max_depth: 10; min_samples_split: 10\n",
      "Train loss: 0.607328035788\n",
      "Val loss: 0.641218256318\n",
      "76\n",
      "max_features: 0.4; max_depth: 10; min_samples_split: 20\n",
      "Train loss: 0.611609942997\n",
      "Val loss: 0.641408803222\n",
      "77\n",
      "max_features: 0.4; max_depth: 12; min_samples_split: 2\n",
      "Train loss: 0.558854294406\n",
      "Val loss: 0.633623487599\n",
      "78\n",
      "max_features: 0.4; max_depth: 12; min_samples_split: 5\n",
      "Train loss: 0.566281117155\n",
      "Val loss: 0.63364500565\n",
      "79\n",
      "max_features: 0.4; max_depth: 12; min_samples_split: 10\n",
      "Train loss: 0.574176239036\n",
      "Val loss: 0.633517405834\n",
      "80\n",
      "max_features: 0.4; max_depth: 12; min_samples_split: 20\n",
      "Train loss: 0.583391302569\n",
      "Val loss: 0.634005047478\n",
      "81\n",
      "max_features: 0.4; max_depth: 14; min_samples_split: 2\n",
      "Train loss: 0.50775308795\n",
      "Val loss: 0.630865178042\n",
      "82\n",
      "max_features: 0.4; max_depth: 14; min_samples_split: 5\n",
      "Train loss: 0.522899103931\n",
      "Val loss: 0.629824095028\n",
      "83\n",
      "max_features: 0.4; max_depth: 14; min_samples_split: 10\n",
      "Train loss: 0.537904076211\n",
      "Val loss: 0.629741536734\n",
      "84\n",
      "max_features: 0.4; max_depth: 14; min_samples_split: 20\n",
      "Train loss: 0.553578594279\n",
      "Val loss: 0.629689201751\n",
      "85\n",
      "max_features: 0.4; max_depth: 16; min_samples_split: 2\n",
      "Train loss: 0.451761148885\n",
      "Val loss: 0.631886508606\n",
      "86\n",
      "max_features: 0.4; max_depth: 16; min_samples_split: 5\n",
      "Train loss: 0.475198706536\n",
      "Val loss: 0.62927659052\n",
      "87\n",
      "max_features: 0.4; max_depth: 16; min_samples_split: 10\n",
      "Train loss: 0.49999505161\n",
      "Val loss: 0.628277553539\n",
      "88\n",
      "max_features: 0.4; max_depth: 16; min_samples_split: 20\n",
      "Train loss: 0.526321319043\n",
      "Val loss: 0.627851285999\n",
      "89\n",
      "max_features: 0.4; max_depth: 18; min_samples_split: 2\n",
      "Train loss: 0.39144627638\n",
      "Val loss: 0.636460678227\n",
      "90\n",
      "max_features: 0.4; max_depth: 18; min_samples_split: 5\n",
      "Train loss: 0.428202197794\n",
      "Val loss: 0.632170448384\n",
      "91\n",
      "max_features: 0.4; max_depth: 18; min_samples_split: 10\n",
      "Train loss: 0.465032182257\n",
      "Val loss: 0.629231475241\n",
      "92\n",
      "max_features: 0.4; max_depth: 18; min_samples_split: 20\n",
      "Train loss: 0.501708794125\n",
      "Val loss: 0.628425879435\n",
      "93\n",
      "max_features: 0.4; max_depth: 20; min_samples_split: 2\n",
      "Train loss: 0.336471362424\n",
      "Val loss: 0.644725928652\n",
      "94\n",
      "max_features: 0.4; max_depth: 20; min_samples_split: 5\n",
      "Train loss: 0.387307924624\n",
      "Val loss: 0.636528818496\n",
      "95\n",
      "max_features: 0.4; max_depth: 20; min_samples_split: 10\n",
      "Train loss: 0.43524232548\n",
      "Val loss: 0.631674952817\n",
      "96\n",
      "max_features: 0.4; max_depth: 20; min_samples_split: 20\n",
      "Train loss: 0.482777000284\n",
      "Val loss: 0.628947844748\n",
      "97\n",
      "max_features: 0.5; max_depth: 10; min_samples_split: 2\n",
      "Train loss: 0.595327250941\n",
      "Val loss: 0.639072864478\n",
      "98\n",
      "max_features: 0.5; max_depth: 10; min_samples_split: 5\n",
      "Train loss: 0.598077484772\n",
      "Val loss: 0.639034057345\n",
      "99\n",
      "max_features: 0.5; max_depth: 10; min_samples_split: 10\n",
      "Train loss: 0.601697754728\n",
      "Val loss: 0.638810251677\n",
      "100\n",
      "max_features: 0.5; max_depth: 10; min_samples_split: 20\n",
      "Train loss: 0.606182592755\n",
      "Val loss: 0.639240306976\n",
      "101\n",
      "max_features: 0.5; max_depth: 12; min_samples_split: 2\n",
      "Train loss: 0.550634120042\n",
      "Val loss: 0.633442196456\n",
      "102\n",
      "max_features: 0.5; max_depth: 12; min_samples_split: 5\n",
      "Train loss: 0.557369073947\n",
      "Val loss: 0.633027134528\n",
      "103\n",
      "max_features: 0.5; max_depth: 12; min_samples_split: 10\n",
      "Train loss: 0.565920123359\n",
      "Val loss: 0.63278718337\n",
      "104\n",
      "max_features: 0.5; max_depth: 12; min_samples_split: 20\n",
      "Train loss: 0.576968881022\n",
      "Val loss: 0.63315118484\n",
      "105\n",
      "max_features: 0.5; max_depth: 14; min_samples_split: 2\n",
      "Train loss: 0.496418338068\n",
      "Val loss: 0.632070823172\n",
      "106\n",
      "max_features: 0.5; max_depth: 14; min_samples_split: 5\n",
      "Train loss: 0.510569415914\n",
      "Val loss: 0.630963444881\n",
      "107\n",
      "max_features: 0.5; max_depth: 14; min_samples_split: 10\n",
      "Train loss: 0.527579102425\n",
      "Val loss: 0.630461461311\n",
      "108\n",
      "max_features: 0.5; max_depth: 14; min_samples_split: 20\n",
      "Train loss: 0.545647092987\n",
      "Val loss: 0.63034953862\n",
      "109\n",
      "max_features: 0.5; max_depth: 16; min_samples_split: 2\n",
      "Train loss: 0.436125302995\n",
      "Val loss: 0.63404844964\n",
      "110\n",
      "max_features: 0.5; max_depth: 16; min_samples_split: 5\n",
      "Train loss: 0.460236887806\n",
      "Val loss: 0.631695167092\n",
      "111\n",
      "max_features: 0.5; max_depth: 16; min_samples_split: 10\n",
      "Train loss: 0.487945055473\n",
      "Val loss: 0.630184602507\n",
      "112\n",
      "max_features: 0.5; max_depth: 16; min_samples_split: 20\n",
      "Train loss: 0.516626160016\n",
      "Val loss: 0.629607811114\n",
      "113\n",
      "max_features: 0.5; max_depth: 18; min_samples_split: 2\n",
      "Train loss: 0.375379046577\n",
      "Val loss: 0.641290700154\n",
      "114\n",
      "max_features: 0.5; max_depth: 18; min_samples_split: 5\n",
      "Train loss: 0.412433774273\n",
      "Val loss: 0.635994353539\n",
      "115\n",
      "max_features: 0.5; max_depth: 18; min_samples_split: 10\n",
      "Train loss: 0.452047011146\n",
      "Val loss: 0.632446221655\n",
      "116\n",
      "max_features: 0.5; max_depth: 18; min_samples_split: 20\n",
      "Train loss: 0.492450582547\n",
      "Val loss: 0.630187448959\n",
      "117\n",
      "max_features: 0.5; max_depth: 20; min_samples_split: 2\n",
      "Train loss: 0.321311388829\n",
      "Val loss: 0.652081280725\n",
      "118\n",
      "max_features: 0.5; max_depth: 20; min_samples_split: 5\n",
      "Train loss: 0.372720995653\n",
      "Val loss: 0.642382455192\n",
      "119\n",
      "max_features: 0.5; max_depth: 20; min_samples_split: 10\n",
      "Train loss: 0.423011313541\n",
      "Val loss: 0.636218024652\n",
      "120\n",
      "max_features: 0.5; max_depth: 20; min_samples_split: 20\n",
      "Train loss: 0.474043665966\n",
      "Val loss: 0.631725612583\n",
      "best_loss: 0.627188125099\n",
      "best_params: max_features: 0.3; max_depth: 20; min_samples_split: 20\n"
     ]
    }
   ],
   "source": [
    "# max_features = ['sqrt',0.2, 0.3, 0.4, 0.5]\n",
    "# max_depth = [10, 12, 14, 16, 18, 20]\n",
    "# min_samples_split = [2, 5, 10, 20]\n",
    "# best_loss = 100\n",
    "# best_params = ''\n",
    "# count = 1\n",
    "# for mf in max_features:\n",
    "#     for md in max_depth:\n",
    "#         for mss in min_samples_split:\n",
    "#             print count\n",
    "#             count += 1\n",
    "#             params = 'max_features: ' + str(mf) + '; max_depth: ' + str(md) + '; min_samples_split: ' + str(mss)\n",
    "#             print params\n",
    "#             model = RandomForestClassifier(n_estimators=500, max_features=mf, max_depth=md, min_samples_split=mss, random_state=0)\n",
    "#             model = model.fit(x_train_best, y_train)\n",
    "#             predicted_train = pd.DataFrame(model.predict_proba(x_train_best))\n",
    "#             predicted_train.columns = ['high', 'low', 'medium']\n",
    "#             log_loss_train = log_loss(y_train, predicted_train.as_matrix())\n",
    "#             print 'Train loss:', log_loss_train\n",
    "#             predicted_val = pd.DataFrame(model.predict_proba(x_val_best))\n",
    "#             predicted_val.columns = ['high', 'low', 'medium']\n",
    "#             log_loss_val = log_loss(y_val, predicted_val.as_matrix())\n",
    "#             print 'Val loss:', log_loss_val\n",
    "#             if log_loss_val < best_loss:\n",
    "#                 best_loss = log_loss_val\n",
    "#                 best_params = params\n",
    "                \n",
    "                \n",
    "# print 'best_loss:', best_loss\n",
    "# print 'best_params:', best_params\n",
    "# # best_loss: 0.638016960424\n",
    "# # best_params: max_features: 0.3; max_depth: 18; min_samples_split: 20"
   ]
  },
  {
   "cell_type": "markdown",
   "metadata": {
    "collapsed": true
   },
   "source": [
    "## Competition Test Set"
   ]
  },
  {
   "cell_type": "code",
   "execution_count": null,
   "metadata": {
    "collapsed": true
   },
   "outputs": [],
   "source": [
    "test_df = pd.read_csv('test_feats_max.csv')"
   ]
  },
  {
   "cell_type": "code",
   "execution_count": null,
   "metadata": {
    "collapsed": false
   },
   "outputs": [],
   "source": [
    "test_df.head(2)"
   ]
  },
  {
   "cell_type": "code",
   "execution_count": null,
   "metadata": {
    "collapsed": false
   },
   "outputs": [],
   "source": [
    "x_test = test_df[x_train_best.columns]\n",
    "x_test.shape"
   ]
  },
  {
   "cell_type": "code",
   "execution_count": null,
   "metadata": {
    "collapsed": false
   },
   "outputs": [],
   "source": [
    "pred_x = pd.DataFrame(model.predict_proba(x_test))\n",
    "pred_x.columns = ['high', 'low', 'medium']\n",
    "pred_x.head()"
   ]
  },
  {
   "cell_type": "code",
   "execution_count": null,
   "metadata": {
    "collapsed": false
   },
   "outputs": [],
   "source": [
    "subm = pd.merge(test_df[['listing_id']].reset_index(), pred_x.reset_index(), left_index=True, right_index=True)"
   ]
  },
  {
   "cell_type": "code",
   "execution_count": null,
   "metadata": {
    "collapsed": true
   },
   "outputs": [],
   "source": [
    "subm = subm[['listing_id', 'high', 'medium', 'low']]"
   ]
  },
  {
   "cell_type": "code",
   "execution_count": null,
   "metadata": {
    "collapsed": false
   },
   "outputs": [],
   "source": [
    "subm.shape\n",
    "# (74659, 4)"
   ]
  },
  {
   "cell_type": "code",
   "execution_count": null,
   "metadata": {
    "collapsed": true
   },
   "outputs": [],
   "source": [
    "subm.to_csv('Submission_RandomForest_auto120_tune+58feats_2.csv', index=None)"
   ]
  },
  {
   "cell_type": "code",
   "execution_count": 51,
   "metadata": {
    "collapsed": false
   },
   "outputs": [
    {
     "data": {
      "text/plain": [
       "RandomForestClassifier(bootstrap=True, class_weight=None, criterion='gini',\n",
       "            max_depth=20, max_features=0.3, max_leaf_nodes=None,\n",
       "            min_impurity_split=1e-07, min_samples_leaf=1,\n",
       "            min_samples_split=20, min_weight_fraction_leaf=0.0,\n",
       "            n_estimators=1000, n_jobs=1, oob_score=False, random_state=21,\n",
       "            verbose=0, warm_start=False)"
      ]
     },
     "execution_count": 51,
     "metadata": {},
     "output_type": "execute_result"
    }
   ],
   "source": [
    "model"
   ]
  },
  {
   "cell_type": "code",
   "execution_count": null,
   "metadata": {
    "collapsed": true
   },
   "outputs": [],
   "source": []
  }
 ],
 "metadata": {
  "anaconda-cloud": {},
  "kernelspec": {
   "display_name": "Python [Root]",
   "language": "python",
   "name": "Python [Root]"
  },
  "language_info": {
   "codemirror_mode": {
    "name": "ipython",
    "version": 2
   },
   "file_extension": ".py",
   "mimetype": "text/x-python",
   "name": "python",
   "nbconvert_exporter": "python",
   "pygments_lexer": "ipython2",
   "version": "2.7.12"
  }
 },
 "nbformat": 4,
 "nbformat_minor": 0
}
